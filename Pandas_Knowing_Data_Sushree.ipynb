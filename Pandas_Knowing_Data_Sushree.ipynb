{
 "cells": [
  {
   "cell_type": "markdown",
   "metadata": {},
   "source": [
    "## Getting to know your data"
   ]
  },
  {
   "cell_type": "code",
   "execution_count": 1,
   "metadata": {
    "ExecuteTime": {
     "end_time": "2021-05-24T15:28:11.444447Z",
     "start_time": "2021-05-24T15:28:11.024468Z"
    }
   },
   "outputs": [],
   "source": [
    "import pandas as pd"
   ]
  },
  {
   "cell_type": "markdown",
   "metadata": {},
   "source": [
    "### 1.Use the u.user file and assign it to a dataframe"
   ]
  },
  {
   "cell_type": "code",
   "execution_count": 2,
   "metadata": {
    "ExecuteTime": {
     "end_time": "2021-05-24T15:28:12.778264Z",
     "start_time": "2021-05-24T15:28:12.755986Z"
    }
   },
   "outputs": [
    {
     "data": {
      "text/html": [
       "<div>\n",
       "<style scoped>\n",
       "    .dataframe tbody tr th:only-of-type {\n",
       "        vertical-align: middle;\n",
       "    }\n",
       "\n",
       "    .dataframe tbody tr th {\n",
       "        vertical-align: top;\n",
       "    }\n",
       "\n",
       "    .dataframe thead th {\n",
       "        text-align: right;\n",
       "    }\n",
       "</style>\n",
       "<table border=\"1\" class=\"dataframe\">\n",
       "  <thead>\n",
       "    <tr style=\"text-align: right;\">\n",
       "      <th></th>\n",
       "      <th>user_id</th>\n",
       "      <th>age</th>\n",
       "      <th>gender</th>\n",
       "      <th>occupation</th>\n",
       "      <th>zip_code</th>\n",
       "    </tr>\n",
       "  </thead>\n",
       "  <tbody>\n",
       "    <tr>\n",
       "      <th>0</th>\n",
       "      <td>1</td>\n",
       "      <td>24</td>\n",
       "      <td>M</td>\n",
       "      <td>technician</td>\n",
       "      <td>85711</td>\n",
       "    </tr>\n",
       "    <tr>\n",
       "      <th>1</th>\n",
       "      <td>2</td>\n",
       "      <td>53</td>\n",
       "      <td>F</td>\n",
       "      <td>other</td>\n",
       "      <td>94043</td>\n",
       "    </tr>\n",
       "    <tr>\n",
       "      <th>2</th>\n",
       "      <td>3</td>\n",
       "      <td>23</td>\n",
       "      <td>M</td>\n",
       "      <td>writer</td>\n",
       "      <td>32067</td>\n",
       "    </tr>\n",
       "    <tr>\n",
       "      <th>3</th>\n",
       "      <td>4</td>\n",
       "      <td>24</td>\n",
       "      <td>M</td>\n",
       "      <td>technician</td>\n",
       "      <td>43537</td>\n",
       "    </tr>\n",
       "    <tr>\n",
       "      <th>4</th>\n",
       "      <td>5</td>\n",
       "      <td>33</td>\n",
       "      <td>F</td>\n",
       "      <td>other</td>\n",
       "      <td>15213</td>\n",
       "    </tr>\n",
       "    <tr>\n",
       "      <th>...</th>\n",
       "      <td>...</td>\n",
       "      <td>...</td>\n",
       "      <td>...</td>\n",
       "      <td>...</td>\n",
       "      <td>...</td>\n",
       "    </tr>\n",
       "    <tr>\n",
       "      <th>938</th>\n",
       "      <td>939</td>\n",
       "      <td>26</td>\n",
       "      <td>F</td>\n",
       "      <td>student</td>\n",
       "      <td>33319</td>\n",
       "    </tr>\n",
       "    <tr>\n",
       "      <th>939</th>\n",
       "      <td>940</td>\n",
       "      <td>32</td>\n",
       "      <td>M</td>\n",
       "      <td>administrator</td>\n",
       "      <td>02215</td>\n",
       "    </tr>\n",
       "    <tr>\n",
       "      <th>940</th>\n",
       "      <td>941</td>\n",
       "      <td>20</td>\n",
       "      <td>M</td>\n",
       "      <td>student</td>\n",
       "      <td>97229</td>\n",
       "    </tr>\n",
       "    <tr>\n",
       "      <th>941</th>\n",
       "      <td>942</td>\n",
       "      <td>48</td>\n",
       "      <td>F</td>\n",
       "      <td>librarian</td>\n",
       "      <td>78209</td>\n",
       "    </tr>\n",
       "    <tr>\n",
       "      <th>942</th>\n",
       "      <td>943</td>\n",
       "      <td>22</td>\n",
       "      <td>M</td>\n",
       "      <td>student</td>\n",
       "      <td>77841</td>\n",
       "    </tr>\n",
       "  </tbody>\n",
       "</table>\n",
       "<p>943 rows × 5 columns</p>\n",
       "</div>"
      ],
      "text/plain": [
       "     user_id  age gender     occupation zip_code\n",
       "0          1   24      M     technician    85711\n",
       "1          2   53      F          other    94043\n",
       "2          3   23      M         writer    32067\n",
       "3          4   24      M     technician    43537\n",
       "4          5   33      F          other    15213\n",
       "..       ...  ...    ...            ...      ...\n",
       "938      939   26      F        student    33319\n",
       "939      940   32      M  administrator    02215\n",
       "940      941   20      M        student    97229\n",
       "941      942   48      F      librarian    78209\n",
       "942      943   22      M        student    77841\n",
       "\n",
       "[943 rows x 5 columns]"
      ]
     },
     "execution_count": 2,
     "metadata": {},
     "output_type": "execute_result"
    }
   ],
   "source": [
    "user_file=pd.read_csv(\"C:/Users/sushr/Downloads/u.user\",sep=\"|\")\n",
    "user_file"
   ]
  },
  {
   "cell_type": "markdown",
   "metadata": {},
   "source": [
    "### 2.See the first 5 entries"
   ]
  },
  {
   "cell_type": "code",
   "execution_count": 3,
   "metadata": {
    "ExecuteTime": {
     "end_time": "2021-05-24T15:28:14.483917Z",
     "start_time": "2021-05-24T15:28:14.468195Z"
    }
   },
   "outputs": [
    {
     "data": {
      "text/html": [
       "<div>\n",
       "<style scoped>\n",
       "    .dataframe tbody tr th:only-of-type {\n",
       "        vertical-align: middle;\n",
       "    }\n",
       "\n",
       "    .dataframe tbody tr th {\n",
       "        vertical-align: top;\n",
       "    }\n",
       "\n",
       "    .dataframe thead th {\n",
       "        text-align: right;\n",
       "    }\n",
       "</style>\n",
       "<table border=\"1\" class=\"dataframe\">\n",
       "  <thead>\n",
       "    <tr style=\"text-align: right;\">\n",
       "      <th></th>\n",
       "      <th>user_id</th>\n",
       "      <th>age</th>\n",
       "      <th>gender</th>\n",
       "      <th>occupation</th>\n",
       "      <th>zip_code</th>\n",
       "    </tr>\n",
       "  </thead>\n",
       "  <tbody>\n",
       "    <tr>\n",
       "      <th>0</th>\n",
       "      <td>1</td>\n",
       "      <td>24</td>\n",
       "      <td>M</td>\n",
       "      <td>technician</td>\n",
       "      <td>85711</td>\n",
       "    </tr>\n",
       "    <tr>\n",
       "      <th>1</th>\n",
       "      <td>2</td>\n",
       "      <td>53</td>\n",
       "      <td>F</td>\n",
       "      <td>other</td>\n",
       "      <td>94043</td>\n",
       "    </tr>\n",
       "    <tr>\n",
       "      <th>2</th>\n",
       "      <td>3</td>\n",
       "      <td>23</td>\n",
       "      <td>M</td>\n",
       "      <td>writer</td>\n",
       "      <td>32067</td>\n",
       "    </tr>\n",
       "    <tr>\n",
       "      <th>3</th>\n",
       "      <td>4</td>\n",
       "      <td>24</td>\n",
       "      <td>M</td>\n",
       "      <td>technician</td>\n",
       "      <td>43537</td>\n",
       "    </tr>\n",
       "    <tr>\n",
       "      <th>4</th>\n",
       "      <td>5</td>\n",
       "      <td>33</td>\n",
       "      <td>F</td>\n",
       "      <td>other</td>\n",
       "      <td>15213</td>\n",
       "    </tr>\n",
       "  </tbody>\n",
       "</table>\n",
       "</div>"
      ],
      "text/plain": [
       "   user_id  age gender  occupation zip_code\n",
       "0        1   24      M  technician    85711\n",
       "1        2   53      F       other    94043\n",
       "2        3   23      M      writer    32067\n",
       "3        4   24      M  technician    43537\n",
       "4        5   33      F       other    15213"
      ]
     },
     "execution_count": 3,
     "metadata": {},
     "output_type": "execute_result"
    }
   ],
   "source": [
    "user_file.head()"
   ]
  },
  {
   "cell_type": "markdown",
   "metadata": {},
   "source": [
    "### 3.What is the number of observations in the dataset?"
   ]
  },
  {
   "cell_type": "code",
   "execution_count": 4,
   "metadata": {
    "ExecuteTime": {
     "end_time": "2021-05-24T15:28:16.143945Z",
     "start_time": "2021-05-24T15:28:16.119390Z"
    }
   },
   "outputs": [
    {
     "name": "stdout",
     "output_type": "stream",
     "text": [
      "user_id\n",
      "1      1\n",
      "2      1\n",
      "3      1\n",
      "4      1\n",
      "5      1\n",
      "      ..\n",
      "939    1\n",
      "940    1\n",
      "941    1\n",
      "942    1\n",
      "943    1\n",
      "Length: 943, dtype: int64\n",
      "___________\n",
      "age\n",
      "7     1\n",
      "10    1\n",
      "11    1\n",
      "13    5\n",
      "14    3\n",
      "     ..\n",
      "66    1\n",
      "68    2\n",
      "69    2\n",
      "70    3\n",
      "73    1\n",
      "Length: 61, dtype: int64\n",
      "___________\n",
      "gender\n",
      "F    273\n",
      "M    670\n",
      "dtype: int64\n",
      "___________\n",
      "occupation\n",
      "administrator     79\n",
      "artist            28\n",
      "doctor             7\n",
      "educator          95\n",
      "engineer          67\n",
      "entertainment     18\n",
      "executive         32\n",
      "healthcare        16\n",
      "homemaker          7\n",
      "lawyer            12\n",
      "librarian         51\n",
      "marketing         26\n",
      "none               9\n",
      "other            105\n",
      "programmer        66\n",
      "retired           14\n",
      "salesman          12\n",
      "scientist         31\n",
      "student          196\n",
      "technician        27\n",
      "writer            45\n",
      "dtype: int64\n",
      "___________\n",
      "zip_code\n",
      "00000    2\n",
      "01002    1\n",
      "01040    1\n",
      "01080    1\n",
      "01331    1\n",
      "        ..\n",
      "V0R2M    1\n",
      "V1G4L    1\n",
      "V3N4P    1\n",
      "V5A2B    1\n",
      "Y1A6B    1\n",
      "Length: 795, dtype: int64\n"
     ]
    }
   ],
   "source": [
    "print(user_file.groupby(\"user_id\").size())\n",
    "print(\"___________\")\n",
    "print(user_file.groupby(\"age\").size())\n",
    "print(\"___________\")\n",
    "print(user_file.groupby(\"gender\").size())\n",
    "print(\"___________\")\n",
    "print(user_file.groupby(\"occupation\").size())\n",
    "print(\"___________\")\n",
    "print(user_file.groupby(\"zip_code\").size())"
   ]
  },
  {
   "cell_type": "markdown",
   "metadata": {},
   "source": [
    "### 4.What is the number of columns in the dataset?"
   ]
  },
  {
   "cell_type": "code",
   "execution_count": 5,
   "metadata": {
    "ExecuteTime": {
     "end_time": "2021-05-24T15:28:18.949921Z",
     "start_time": "2021-05-24T15:28:18.943910Z"
    }
   },
   "outputs": [
    {
     "name": "stdout",
     "output_type": "stream",
     "text": [
      "The number of columns in the dataset are: 5\n"
     ]
    }
   ],
   "source": [
    "print(f\"The number of columns in the dataset are: {user_file.shape[1]}\")"
   ]
  },
  {
   "cell_type": "code",
   "execution_count": 6,
   "metadata": {
    "ExecuteTime": {
     "end_time": "2021-05-24T15:28:19.779117Z",
     "start_time": "2021-05-24T15:28:19.773847Z"
    }
   },
   "outputs": [],
   "source": [
    "# This can also used\n",
    "# len(user_file.count(numeric_only=False).index)"
   ]
  },
  {
   "cell_type": "markdown",
   "metadata": {},
   "source": [
    "### 5.Print the name of all the columns."
   ]
  },
  {
   "cell_type": "code",
   "execution_count": 7,
   "metadata": {
    "ExecuteTime": {
     "end_time": "2021-05-24T15:28:24.058889Z",
     "start_time": "2021-05-24T15:28:24.049813Z"
    },
    "scrolled": true
   },
   "outputs": [
    {
     "name": "stdout",
     "output_type": "stream",
     "text": [
      "user_id\n",
      "age\n",
      "gender\n",
      "occupation\n",
      "zip_code\n"
     ]
    }
   ],
   "source": [
    "x=list(user_file.columns)\n",
    "for i in x:\n",
    "    print(i)\n"
   ]
  },
  {
   "cell_type": "markdown",
   "metadata": {},
   "source": [
    "### 6.How is the dataset indexed?"
   ]
  },
  {
   "cell_type": "code",
   "execution_count": 8,
   "metadata": {
    "ExecuteTime": {
     "end_time": "2021-05-24T15:28:26.394496Z",
     "start_time": "2021-05-24T15:28:26.363483Z"
    }
   },
   "outputs": [
    {
     "name": "stdout",
     "output_type": "stream",
     "text": [
      "     user_id  age gender     occupation zip_code\n",
      "0          1   24      M     technician    85711\n",
      "1          2   53      F          other    94043\n",
      "2          3   23      M         writer    32067\n",
      "3          4   24      M     technician    43537\n",
      "4          5   33      F          other    15213\n",
      "..       ...  ...    ...            ...      ...\n",
      "938      939   26      F        student    33319\n",
      "939      940   32      M  administrator    02215\n",
      "940      941   20      M        student    97229\n",
      "941      942   48      F      librarian    78209\n",
      "942      943   22      M        student    77841\n",
      "\n",
      "[943 rows x 5 columns]\n",
      "----------------------------------------------------\n"
     ]
    },
    {
     "data": {
      "text/html": [
       "<div>\n",
       "<style scoped>\n",
       "    .dataframe tbody tr th:only-of-type {\n",
       "        vertical-align: middle;\n",
       "    }\n",
       "\n",
       "    .dataframe tbody tr th {\n",
       "        vertical-align: top;\n",
       "    }\n",
       "\n",
       "    .dataframe thead th {\n",
       "        text-align: right;\n",
       "    }\n",
       "</style>\n",
       "<table border=\"1\" class=\"dataframe\">\n",
       "  <thead>\n",
       "    <tr style=\"text-align: right;\">\n",
       "      <th></th>\n",
       "      <th>user_id</th>\n",
       "      <th>age</th>\n",
       "      <th>gender</th>\n",
       "      <th>occupation</th>\n",
       "      <th>zip_code</th>\n",
       "    </tr>\n",
       "    <tr>\n",
       "      <th>serial_number</th>\n",
       "      <th></th>\n",
       "      <th></th>\n",
       "      <th></th>\n",
       "      <th></th>\n",
       "      <th></th>\n",
       "    </tr>\n",
       "  </thead>\n",
       "  <tbody>\n",
       "    <tr>\n",
       "      <th>0</th>\n",
       "      <td>1</td>\n",
       "      <td>24</td>\n",
       "      <td>M</td>\n",
       "      <td>technician</td>\n",
       "      <td>85711</td>\n",
       "    </tr>\n",
       "    <tr>\n",
       "      <th>1</th>\n",
       "      <td>2</td>\n",
       "      <td>53</td>\n",
       "      <td>F</td>\n",
       "      <td>other</td>\n",
       "      <td>94043</td>\n",
       "    </tr>\n",
       "    <tr>\n",
       "      <th>2</th>\n",
       "      <td>3</td>\n",
       "      <td>23</td>\n",
       "      <td>M</td>\n",
       "      <td>writer</td>\n",
       "      <td>32067</td>\n",
       "    </tr>\n",
       "    <tr>\n",
       "      <th>3</th>\n",
       "      <td>4</td>\n",
       "      <td>24</td>\n",
       "      <td>M</td>\n",
       "      <td>technician</td>\n",
       "      <td>43537</td>\n",
       "    </tr>\n",
       "    <tr>\n",
       "      <th>4</th>\n",
       "      <td>5</td>\n",
       "      <td>33</td>\n",
       "      <td>F</td>\n",
       "      <td>other</td>\n",
       "      <td>15213</td>\n",
       "    </tr>\n",
       "    <tr>\n",
       "      <th>...</th>\n",
       "      <td>...</td>\n",
       "      <td>...</td>\n",
       "      <td>...</td>\n",
       "      <td>...</td>\n",
       "      <td>...</td>\n",
       "    </tr>\n",
       "    <tr>\n",
       "      <th>938</th>\n",
       "      <td>939</td>\n",
       "      <td>26</td>\n",
       "      <td>F</td>\n",
       "      <td>student</td>\n",
       "      <td>33319</td>\n",
       "    </tr>\n",
       "    <tr>\n",
       "      <th>939</th>\n",
       "      <td>940</td>\n",
       "      <td>32</td>\n",
       "      <td>M</td>\n",
       "      <td>administrator</td>\n",
       "      <td>02215</td>\n",
       "    </tr>\n",
       "    <tr>\n",
       "      <th>940</th>\n",
       "      <td>941</td>\n",
       "      <td>20</td>\n",
       "      <td>M</td>\n",
       "      <td>student</td>\n",
       "      <td>97229</td>\n",
       "    </tr>\n",
       "    <tr>\n",
       "      <th>941</th>\n",
       "      <td>942</td>\n",
       "      <td>48</td>\n",
       "      <td>F</td>\n",
       "      <td>librarian</td>\n",
       "      <td>78209</td>\n",
       "    </tr>\n",
       "    <tr>\n",
       "      <th>942</th>\n",
       "      <td>943</td>\n",
       "      <td>22</td>\n",
       "      <td>M</td>\n",
       "      <td>student</td>\n",
       "      <td>77841</td>\n",
       "    </tr>\n",
       "  </tbody>\n",
       "</table>\n",
       "<p>943 rows × 5 columns</p>\n",
       "</div>"
      ],
      "text/plain": [
       "               user_id  age gender     occupation zip_code\n",
       "serial_number                                             \n",
       "0                    1   24      M     technician    85711\n",
       "1                    2   53      F          other    94043\n",
       "2                    3   23      M         writer    32067\n",
       "3                    4   24      M     technician    43537\n",
       "4                    5   33      F          other    15213\n",
       "...                ...  ...    ...            ...      ...\n",
       "938                939   26      F        student    33319\n",
       "939                940   32      M  administrator    02215\n",
       "940                941   20      M        student    97229\n",
       "941                942   48      F      librarian    78209\n",
       "942                943   22      M        student    77841\n",
       "\n",
       "[943 rows x 5 columns]"
      ]
     },
     "execution_count": 8,
     "metadata": {},
     "output_type": "execute_result"
    }
   ],
   "source": [
    "user_file_new=pd.read_csv(\"C:/Users/sushr/Downloads/u.user\",sep=\"|\")\n",
    "print(user_file_new)\n",
    "print(\"----------------------------------------------------\")\n",
    "user_file_new.index.name=\"serial_number\"\n",
    "user_file_new\n"
   ]
  },
  {
   "cell_type": "code",
   "execution_count": 9,
   "metadata": {
    "ExecuteTime": {
     "end_time": "2021-05-24T15:28:27.880851Z",
     "start_time": "2021-05-24T15:28:27.861021Z"
    }
   },
   "outputs": [
    {
     "data": {
      "text/html": [
       "<div>\n",
       "<style scoped>\n",
       "    .dataframe tbody tr th:only-of-type {\n",
       "        vertical-align: middle;\n",
       "    }\n",
       "\n",
       "    .dataframe tbody tr th {\n",
       "        vertical-align: top;\n",
       "    }\n",
       "\n",
       "    .dataframe thead th {\n",
       "        text-align: right;\n",
       "    }\n",
       "</style>\n",
       "<table border=\"1\" class=\"dataframe\">\n",
       "  <thead>\n",
       "    <tr style=\"text-align: right;\">\n",
       "      <th></th>\n",
       "      <th>age</th>\n",
       "      <th>gender</th>\n",
       "      <th>occupation</th>\n",
       "      <th>zip_code</th>\n",
       "    </tr>\n",
       "    <tr>\n",
       "      <th>user_id</th>\n",
       "      <th></th>\n",
       "      <th></th>\n",
       "      <th></th>\n",
       "      <th></th>\n",
       "    </tr>\n",
       "  </thead>\n",
       "  <tbody>\n",
       "    <tr>\n",
       "      <th>1</th>\n",
       "      <td>24</td>\n",
       "      <td>M</td>\n",
       "      <td>technician</td>\n",
       "      <td>85711</td>\n",
       "    </tr>\n",
       "    <tr>\n",
       "      <th>2</th>\n",
       "      <td>53</td>\n",
       "      <td>F</td>\n",
       "      <td>other</td>\n",
       "      <td>94043</td>\n",
       "    </tr>\n",
       "    <tr>\n",
       "      <th>3</th>\n",
       "      <td>23</td>\n",
       "      <td>M</td>\n",
       "      <td>writer</td>\n",
       "      <td>32067</td>\n",
       "    </tr>\n",
       "    <tr>\n",
       "      <th>4</th>\n",
       "      <td>24</td>\n",
       "      <td>M</td>\n",
       "      <td>technician</td>\n",
       "      <td>43537</td>\n",
       "    </tr>\n",
       "    <tr>\n",
       "      <th>5</th>\n",
       "      <td>33</td>\n",
       "      <td>F</td>\n",
       "      <td>other</td>\n",
       "      <td>15213</td>\n",
       "    </tr>\n",
       "    <tr>\n",
       "      <th>...</th>\n",
       "      <td>...</td>\n",
       "      <td>...</td>\n",
       "      <td>...</td>\n",
       "      <td>...</td>\n",
       "    </tr>\n",
       "    <tr>\n",
       "      <th>939</th>\n",
       "      <td>26</td>\n",
       "      <td>F</td>\n",
       "      <td>student</td>\n",
       "      <td>33319</td>\n",
       "    </tr>\n",
       "    <tr>\n",
       "      <th>940</th>\n",
       "      <td>32</td>\n",
       "      <td>M</td>\n",
       "      <td>administrator</td>\n",
       "      <td>02215</td>\n",
       "    </tr>\n",
       "    <tr>\n",
       "      <th>941</th>\n",
       "      <td>20</td>\n",
       "      <td>M</td>\n",
       "      <td>student</td>\n",
       "      <td>97229</td>\n",
       "    </tr>\n",
       "    <tr>\n",
       "      <th>942</th>\n",
       "      <td>48</td>\n",
       "      <td>F</td>\n",
       "      <td>librarian</td>\n",
       "      <td>78209</td>\n",
       "    </tr>\n",
       "    <tr>\n",
       "      <th>943</th>\n",
       "      <td>22</td>\n",
       "      <td>M</td>\n",
       "      <td>student</td>\n",
       "      <td>77841</td>\n",
       "    </tr>\n",
       "  </tbody>\n",
       "</table>\n",
       "<p>943 rows × 4 columns</p>\n",
       "</div>"
      ],
      "text/plain": [
       "         age gender     occupation zip_code\n",
       "user_id                                    \n",
       "1         24      M     technician    85711\n",
       "2         53      F          other    94043\n",
       "3         23      M         writer    32067\n",
       "4         24      M     technician    43537\n",
       "5         33      F          other    15213\n",
       "...      ...    ...            ...      ...\n",
       "939       26      F        student    33319\n",
       "940       32      M  administrator    02215\n",
       "941       20      M        student    97229\n",
       "942       48      F      librarian    78209\n",
       "943       22      M        student    77841\n",
       "\n",
       "[943 rows x 4 columns]"
      ]
     },
     "execution_count": 9,
     "metadata": {},
     "output_type": "execute_result"
    }
   ],
   "source": [
    "n=user_file_new.set_index(\"user_id\")\n",
    "n\n"
   ]
  },
  {
   "cell_type": "markdown",
   "metadata": {},
   "source": [
    "### 7.What is datatype of each cloumn?"
   ]
  },
  {
   "cell_type": "code",
   "execution_count": 10,
   "metadata": {
    "ExecuteTime": {
     "end_time": "2021-05-24T15:28:32.169585Z",
     "start_time": "2021-05-24T15:28:32.159595Z"
    }
   },
   "outputs": [
    {
     "data": {
      "text/plain": [
       "user_id        int64\n",
       "age            int64\n",
       "gender        object\n",
       "occupation    object\n",
       "zip_code      object\n",
       "dtype: object"
      ]
     },
     "execution_count": 10,
     "metadata": {},
     "output_type": "execute_result"
    }
   ],
   "source": [
    "user_file.dtypes"
   ]
  },
  {
   "cell_type": "markdown",
   "metadata": {},
   "source": [
    "### 8.How many different occupation are in this dataset?"
   ]
  },
  {
   "cell_type": "code",
   "execution_count": 11,
   "metadata": {
    "ExecuteTime": {
     "end_time": "2021-05-24T15:28:34.282820Z",
     "start_time": "2021-05-24T15:28:34.268808Z"
    }
   },
   "outputs": [
    {
     "name": "stdout",
     "output_type": "stream",
     "text": [
      "['technician' 'other' 'writer' 'executive' 'administrator' 'student'\n",
      " 'lawyer' 'educator' 'scientist' 'entertainment' 'programmer' 'librarian'\n",
      " 'homemaker' 'artist' 'engineer' 'marketing' 'none' 'healthcare' 'retired'\n",
      " 'salesman' 'doctor']\n",
      "\n",
      "The total number of occupation are : 21\n"
     ]
    }
   ],
   "source": [
    "m=pd.Series.unique(user_file[\"occupation\"])\n",
    "print(m)\n",
    "print(\"\")\n",
    "print(f\"The total number of occupation are : {m.shape[0]}\")"
   ]
  },
  {
   "cell_type": "markdown",
   "metadata": {},
   "source": [
    "### 9.What is the most frequent occupation?"
   ]
  },
  {
   "cell_type": "code",
   "execution_count": 12,
   "metadata": {
    "ExecuteTime": {
     "end_time": "2021-05-24T15:28:36.330524Z",
     "start_time": "2021-05-24T15:28:36.317509Z"
    }
   },
   "outputs": [
    {
     "data": {
      "text/plain": [
       "occupation\n",
       "student    196\n",
       "dtype: int64"
      ]
     },
     "execution_count": 12,
     "metadata": {},
     "output_type": "execute_result"
    }
   ],
   "source": [
    "# can be used ---->user_file.groupby(\"occupation\").size().sort_values(ascending=False).index[0]\n",
    "user_file.groupby(\"occupation\").size().sort_values(ascending=False).iloc[:1]"
   ]
  },
  {
   "cell_type": "markdown",
   "metadata": {},
   "source": [
    "# 10.Summarize the DataFrame."
   ]
  },
  {
   "cell_type": "code",
   "execution_count": 13,
   "metadata": {
    "ExecuteTime": {
     "end_time": "2021-05-24T15:28:40.863828Z",
     "start_time": "2021-05-24T15:28:40.844299Z"
    }
   },
   "outputs": [
    {
     "name": "stdout",
     "output_type": "stream",
     "text": [
      "<class 'pandas.core.frame.DataFrame'>\n",
      "RangeIndex: 943 entries, 0 to 942\n",
      "Data columns (total 5 columns):\n",
      " #   Column      Non-Null Count  Dtype \n",
      "---  ------      --------------  ----- \n",
      " 0   user_id     943 non-null    int64 \n",
      " 1   age         943 non-null    int64 \n",
      " 2   gender      943 non-null    object\n",
      " 3   occupation  943 non-null    object\n",
      " 4   zip_code    943 non-null    object\n",
      "dtypes: int64(2), object(3)\n",
      "memory usage: 37.0+ KB\n",
      "\n"
     ]
    },
    {
     "data": {
      "text/html": [
       "<div>\n",
       "<style scoped>\n",
       "    .dataframe tbody tr th:only-of-type {\n",
       "        vertical-align: middle;\n",
       "    }\n",
       "\n",
       "    .dataframe tbody tr th {\n",
       "        vertical-align: top;\n",
       "    }\n",
       "\n",
       "    .dataframe thead th {\n",
       "        text-align: right;\n",
       "    }\n",
       "</style>\n",
       "<table border=\"1\" class=\"dataframe\">\n",
       "  <thead>\n",
       "    <tr style=\"text-align: right;\">\n",
       "      <th></th>\n",
       "      <th>user_id</th>\n",
       "      <th>age</th>\n",
       "    </tr>\n",
       "  </thead>\n",
       "  <tbody>\n",
       "    <tr>\n",
       "      <th>count</th>\n",
       "      <td>943.000000</td>\n",
       "      <td>943.000000</td>\n",
       "    </tr>\n",
       "    <tr>\n",
       "      <th>mean</th>\n",
       "      <td>472.000000</td>\n",
       "      <td>34.051962</td>\n",
       "    </tr>\n",
       "    <tr>\n",
       "      <th>std</th>\n",
       "      <td>272.364951</td>\n",
       "      <td>12.192740</td>\n",
       "    </tr>\n",
       "    <tr>\n",
       "      <th>min</th>\n",
       "      <td>1.000000</td>\n",
       "      <td>7.000000</td>\n",
       "    </tr>\n",
       "    <tr>\n",
       "      <th>25%</th>\n",
       "      <td>236.500000</td>\n",
       "      <td>25.000000</td>\n",
       "    </tr>\n",
       "    <tr>\n",
       "      <th>50%</th>\n",
       "      <td>472.000000</td>\n",
       "      <td>31.000000</td>\n",
       "    </tr>\n",
       "    <tr>\n",
       "      <th>75%</th>\n",
       "      <td>707.500000</td>\n",
       "      <td>43.000000</td>\n",
       "    </tr>\n",
       "    <tr>\n",
       "      <th>max</th>\n",
       "      <td>943.000000</td>\n",
       "      <td>73.000000</td>\n",
       "    </tr>\n",
       "  </tbody>\n",
       "</table>\n",
       "</div>"
      ],
      "text/plain": [
       "          user_id         age\n",
       "count  943.000000  943.000000\n",
       "mean   472.000000   34.051962\n",
       "std    272.364951   12.192740\n",
       "min      1.000000    7.000000\n",
       "25%    236.500000   25.000000\n",
       "50%    472.000000   31.000000\n",
       "75%    707.500000   43.000000\n",
       "max    943.000000   73.000000"
      ]
     },
     "execution_count": 13,
     "metadata": {},
     "output_type": "execute_result"
    }
   ],
   "source": [
    "user_file.info()\n",
    "print(\"\")\n",
    "user_file.describe()"
   ]
  },
  {
   "cell_type": "markdown",
   "metadata": {},
   "source": [
    "### 11.Summarize all the columns"
   ]
  },
  {
   "cell_type": "code",
   "execution_count": 14,
   "metadata": {
    "ExecuteTime": {
     "end_time": "2021-05-24T15:28:44.375507Z",
     "start_time": "2021-05-24T15:28:44.338895Z"
    }
   },
   "outputs": [
    {
     "data": {
      "text/html": [
       "<div>\n",
       "<style scoped>\n",
       "    .dataframe tbody tr th:only-of-type {\n",
       "        vertical-align: middle;\n",
       "    }\n",
       "\n",
       "    .dataframe tbody tr th {\n",
       "        vertical-align: top;\n",
       "    }\n",
       "\n",
       "    .dataframe thead th {\n",
       "        text-align: right;\n",
       "    }\n",
       "</style>\n",
       "<table border=\"1\" class=\"dataframe\">\n",
       "  <thead>\n",
       "    <tr style=\"text-align: right;\">\n",
       "      <th></th>\n",
       "      <th>user_id</th>\n",
       "      <th>age</th>\n",
       "      <th>gender</th>\n",
       "      <th>occupation</th>\n",
       "      <th>zip_code</th>\n",
       "    </tr>\n",
       "  </thead>\n",
       "  <tbody>\n",
       "    <tr>\n",
       "      <th>count</th>\n",
       "      <td>943.000000</td>\n",
       "      <td>943.000000</td>\n",
       "      <td>943</td>\n",
       "      <td>943</td>\n",
       "      <td>943</td>\n",
       "    </tr>\n",
       "    <tr>\n",
       "      <th>unique</th>\n",
       "      <td>NaN</td>\n",
       "      <td>NaN</td>\n",
       "      <td>2</td>\n",
       "      <td>21</td>\n",
       "      <td>795</td>\n",
       "    </tr>\n",
       "    <tr>\n",
       "      <th>top</th>\n",
       "      <td>NaN</td>\n",
       "      <td>NaN</td>\n",
       "      <td>M</td>\n",
       "      <td>student</td>\n",
       "      <td>55414</td>\n",
       "    </tr>\n",
       "    <tr>\n",
       "      <th>freq</th>\n",
       "      <td>NaN</td>\n",
       "      <td>NaN</td>\n",
       "      <td>670</td>\n",
       "      <td>196</td>\n",
       "      <td>9</td>\n",
       "    </tr>\n",
       "    <tr>\n",
       "      <th>mean</th>\n",
       "      <td>472.000000</td>\n",
       "      <td>34.051962</td>\n",
       "      <td>NaN</td>\n",
       "      <td>NaN</td>\n",
       "      <td>NaN</td>\n",
       "    </tr>\n",
       "    <tr>\n",
       "      <th>std</th>\n",
       "      <td>272.364951</td>\n",
       "      <td>12.192740</td>\n",
       "      <td>NaN</td>\n",
       "      <td>NaN</td>\n",
       "      <td>NaN</td>\n",
       "    </tr>\n",
       "    <tr>\n",
       "      <th>min</th>\n",
       "      <td>1.000000</td>\n",
       "      <td>7.000000</td>\n",
       "      <td>NaN</td>\n",
       "      <td>NaN</td>\n",
       "      <td>NaN</td>\n",
       "    </tr>\n",
       "    <tr>\n",
       "      <th>25%</th>\n",
       "      <td>236.500000</td>\n",
       "      <td>25.000000</td>\n",
       "      <td>NaN</td>\n",
       "      <td>NaN</td>\n",
       "      <td>NaN</td>\n",
       "    </tr>\n",
       "    <tr>\n",
       "      <th>50%</th>\n",
       "      <td>472.000000</td>\n",
       "      <td>31.000000</td>\n",
       "      <td>NaN</td>\n",
       "      <td>NaN</td>\n",
       "      <td>NaN</td>\n",
       "    </tr>\n",
       "    <tr>\n",
       "      <th>75%</th>\n",
       "      <td>707.500000</td>\n",
       "      <td>43.000000</td>\n",
       "      <td>NaN</td>\n",
       "      <td>NaN</td>\n",
       "      <td>NaN</td>\n",
       "    </tr>\n",
       "    <tr>\n",
       "      <th>max</th>\n",
       "      <td>943.000000</td>\n",
       "      <td>73.000000</td>\n",
       "      <td>NaN</td>\n",
       "      <td>NaN</td>\n",
       "      <td>NaN</td>\n",
       "    </tr>\n",
       "  </tbody>\n",
       "</table>\n",
       "</div>"
      ],
      "text/plain": [
       "           user_id         age gender occupation zip_code\n",
       "count   943.000000  943.000000    943        943      943\n",
       "unique         NaN         NaN      2         21      795\n",
       "top            NaN         NaN      M    student    55414\n",
       "freq           NaN         NaN    670        196        9\n",
       "mean    472.000000   34.051962    NaN        NaN      NaN\n",
       "std     272.364951   12.192740    NaN        NaN      NaN\n",
       "min       1.000000    7.000000    NaN        NaN      NaN\n",
       "25%     236.500000   25.000000    NaN        NaN      NaN\n",
       "50%     472.000000   31.000000    NaN        NaN      NaN\n",
       "75%     707.500000   43.000000    NaN        NaN      NaN\n",
       "max     943.000000   73.000000    NaN        NaN      NaN"
      ]
     },
     "execution_count": 14,
     "metadata": {},
     "output_type": "execute_result"
    }
   ],
   "source": [
    "user_file.describe(include=\"all\")"
   ]
  },
  {
   "cell_type": "markdown",
   "metadata": {},
   "source": [
    "### What is the age with least occurence?"
   ]
  },
  {
   "cell_type": "code",
   "execution_count": 19,
   "metadata": {
    "ExecuteTime": {
     "end_time": "2021-05-24T15:33:20.516142Z",
     "start_time": "2021-05-24T15:33:20.497164Z"
    }
   },
   "outputs": [
    {
     "name": "stdout",
     "output_type": "stream",
     "text": [
      "11 \n",
      " is the least occuring age\n",
      "30    39\n",
      "25    38\n",
      "22    37\n",
      "28    36\n",
      "27    35\n",
      "      ..\n",
      "11     1\n",
      "10     1\n",
      "73     1\n",
      "66     1\n",
      "7      1\n",
      "Name: age, Length: 61, dtype: int64 \n",
      "\n"
     ]
    }
   ],
   "source": [
    "print(user_file[\"age\"].value_counts().idxmin(),\"\\n is the least occuring age\")\n",
    "print(user_file[\"age\"].value_counts(),\"\\n\")\n"
   ]
  },
  {
   "cell_type": "code",
   "execution_count": 33,
   "metadata": {
    "ExecuteTime": {
     "end_time": "2021-05-24T15:37:23.272969Z",
     "start_time": "2021-05-24T15:37:23.254936Z"
    }
   },
   "outputs": [
    {
     "data": {
      "text/plain": [
       "11    1\n",
       "10    1\n",
       "73    1\n",
       "66    1\n",
       "7     1\n",
       "Name: age, dtype: int64"
      ]
     },
     "execution_count": 33,
     "metadata": {},
     "output_type": "execute_result"
    }
   ],
   "source": [
    "# different approach\n",
    "user_file[\"age\"].value_counts().tail()"
   ]
  },
  {
   "cell_type": "markdown",
   "metadata": {},
   "source": [
    "## Load Json file"
   ]
  },
  {
   "cell_type": "markdown",
   "metadata": {},
   "source": [
    "### read a raw_nyc_phil.json data"
   ]
  },
  {
   "cell_type": "code",
   "execution_count": 37,
   "metadata": {
    "ExecuteTime": {
     "end_time": "2021-05-24T15:40:16.458094Z",
     "start_time": "2021-05-24T15:40:16.450095Z"
    }
   },
   "outputs": [],
   "source": [
    "import pandas as pd"
   ]
  },
  {
   "cell_type": "code",
   "execution_count": 38,
   "metadata": {
    "ExecuteTime": {
     "end_time": "2021-05-24T15:40:18.011762Z",
     "start_time": "2021-05-24T15:40:17.158193Z"
    }
   },
   "outputs": [],
   "source": [
    "json_file=pd.read_json(\"C:/Users/sushr/Downloads/raw_nyc_phil.json\")"
   ]
  },
  {
   "cell_type": "code",
   "execution_count": 39,
   "metadata": {
    "ExecuteTime": {
     "end_time": "2021-05-24T15:40:18.200902Z",
     "start_time": "2021-05-24T15:40:18.171748Z"
    }
   },
   "outputs": [
    {
     "data": {
      "text/html": [
       "<div>\n",
       "<style scoped>\n",
       "    .dataframe tbody tr th:only-of-type {\n",
       "        vertical-align: middle;\n",
       "    }\n",
       "\n",
       "    .dataframe tbody tr th {\n",
       "        vertical-align: top;\n",
       "    }\n",
       "\n",
       "    .dataframe thead th {\n",
       "        text-align: right;\n",
       "    }\n",
       "</style>\n",
       "<table border=\"1\" class=\"dataframe\">\n",
       "  <thead>\n",
       "    <tr style=\"text-align: right;\">\n",
       "      <th></th>\n",
       "      <th>programs</th>\n",
       "    </tr>\n",
       "  </thead>\n",
       "  <tbody>\n",
       "    <tr>\n",
       "      <th>0</th>\n",
       "      <td>{'season': '1842-43', 'orchestra': 'New York P...</td>\n",
       "    </tr>\n",
       "    <tr>\n",
       "      <th>1</th>\n",
       "      <td>{'season': '1842-43', 'orchestra': 'New York P...</td>\n",
       "    </tr>\n",
       "    <tr>\n",
       "      <th>2</th>\n",
       "      <td>{'season': '1842-43', 'orchestra': 'Musicians ...</td>\n",
       "    </tr>\n",
       "    <tr>\n",
       "      <th>3</th>\n",
       "      <td>{'season': '1842-43', 'orchestra': 'New York P...</td>\n",
       "    </tr>\n",
       "    <tr>\n",
       "      <th>4</th>\n",
       "      <td>{'season': '1843-44', 'orchestra': 'New York P...</td>\n",
       "    </tr>\n",
       "  </tbody>\n",
       "</table>\n",
       "</div>"
      ],
      "text/plain": [
       "                                            programs\n",
       "0  {'season': '1842-43', 'orchestra': 'New York P...\n",
       "1  {'season': '1842-43', 'orchestra': 'New York P...\n",
       "2  {'season': '1842-43', 'orchestra': 'Musicians ...\n",
       "3  {'season': '1842-43', 'orchestra': 'New York P...\n",
       "4  {'season': '1843-44', 'orchestra': 'New York P..."
      ]
     },
     "execution_count": 39,
     "metadata": {},
     "output_type": "execute_result"
    }
   ],
   "source": [
    "json_file.head()"
   ]
  },
  {
   "cell_type": "markdown",
   "metadata": {},
   "source": [
    "### Normalize a json data so that you get an output with columns\n",
    "- Date ,eventType, Venue, Location, Time, id, orchestra, programID ,season"
   ]
  },
  {
   "cell_type": "code",
   "execution_count": 40,
   "metadata": {
    "ExecuteTime": {
     "end_time": "2021-05-24T15:40:20.561822Z",
     "start_time": "2021-05-24T15:40:19.471653Z"
    }
   },
   "outputs": [],
   "source": [
    "# Normalizing the raw json file and assigning to a new Dataframe named'new_file'\n",
    "new_file=pd.json_normalize(json_file[\"programs\"])"
   ]
  },
  {
   "cell_type": "code",
   "execution_count": 41,
   "metadata": {
    "ExecuteTime": {
     "end_time": "2021-05-24T15:40:20.769222Z",
     "start_time": "2021-05-24T15:40:20.724818Z"
    }
   },
   "outputs": [
    {
     "data": {
      "text/html": [
       "<div>\n",
       "<style scoped>\n",
       "    .dataframe tbody tr th:only-of-type {\n",
       "        vertical-align: middle;\n",
       "    }\n",
       "\n",
       "    .dataframe tbody tr th {\n",
       "        vertical-align: top;\n",
       "    }\n",
       "\n",
       "    .dataframe thead th {\n",
       "        text-align: right;\n",
       "    }\n",
       "</style>\n",
       "<table border=\"1\" class=\"dataframe\">\n",
       "  <thead>\n",
       "    <tr style=\"text-align: right;\">\n",
       "      <th></th>\n",
       "      <th>season</th>\n",
       "      <th>orchestra</th>\n",
       "      <th>concerts</th>\n",
       "      <th>programID</th>\n",
       "      <th>works</th>\n",
       "      <th>id</th>\n",
       "    </tr>\n",
       "  </thead>\n",
       "  <tbody>\n",
       "    <tr>\n",
       "      <th>0</th>\n",
       "      <td>1842-43</td>\n",
       "      <td>New York Philharmonic</td>\n",
       "      <td>[{'Date': '1842-12-07T05:00:00Z', 'eventType':...</td>\n",
       "      <td>3853</td>\n",
       "      <td>[{'workTitle': 'SYMPHONY NO. 5 IN C MINOR, OP....</td>\n",
       "      <td>38e072a7-8fc9-4f9a-8eac-3957905c0002</td>\n",
       "    </tr>\n",
       "    <tr>\n",
       "      <th>1</th>\n",
       "      <td>1842-43</td>\n",
       "      <td>New York Philharmonic</td>\n",
       "      <td>[{'Date': '1843-02-18T05:00:00Z', 'eventType':...</td>\n",
       "      <td>5178</td>\n",
       "      <td>[{'workTitle': 'SYMPHONY NO. 3 IN E FLAT MAJOR...</td>\n",
       "      <td>c7b2b95c-5e0b-431c-a340-5b37fc860b34</td>\n",
       "    </tr>\n",
       "    <tr>\n",
       "      <th>2</th>\n",
       "      <td>1842-43</td>\n",
       "      <td>Musicians from the New York Philharmonic</td>\n",
       "      <td>[{'Date': '1843-04-07T05:00:00Z', 'eventType':...</td>\n",
       "      <td>10785</td>\n",
       "      <td>[{'workTitle': 'EGMONT, OP.84', 'composerName'...</td>\n",
       "      <td>894e1a52-1ae5-4fa7-aec0-b99997555a37</td>\n",
       "    </tr>\n",
       "    <tr>\n",
       "      <th>3</th>\n",
       "      <td>1842-43</td>\n",
       "      <td>New York Philharmonic</td>\n",
       "      <td>[{'Date': '1843-04-22T05:00:00Z', 'eventType':...</td>\n",
       "      <td>5887</td>\n",
       "      <td>[{'workTitle': 'SYMPHONY NO. 2 IN D MAJOR, OP....</td>\n",
       "      <td>34ec2c2b-3297-4716-9831-b538310462b7</td>\n",
       "    </tr>\n",
       "    <tr>\n",
       "      <th>4</th>\n",
       "      <td>1843-44</td>\n",
       "      <td>New York Philharmonic</td>\n",
       "      <td>[{'Date': '1843-11-18T05:00:00Z', 'eventType':...</td>\n",
       "      <td>305</td>\n",
       "      <td>[{'workTitle': 'SYMPHONY NO. 7 IN A MAJOR, OP....</td>\n",
       "      <td>610a4acc-94e4-4cd6-bdc1-8ad020edc7e9</td>\n",
       "    </tr>\n",
       "  </tbody>\n",
       "</table>\n",
       "</div>"
      ],
      "text/plain": [
       "    season                                 orchestra  \\\n",
       "0  1842-43                     New York Philharmonic   \n",
       "1  1842-43                     New York Philharmonic   \n",
       "2  1842-43  Musicians from the New York Philharmonic   \n",
       "3  1842-43                     New York Philharmonic   \n",
       "4  1843-44                     New York Philharmonic   \n",
       "\n",
       "                                            concerts programID  \\\n",
       "0  [{'Date': '1842-12-07T05:00:00Z', 'eventType':...      3853   \n",
       "1  [{'Date': '1843-02-18T05:00:00Z', 'eventType':...      5178   \n",
       "2  [{'Date': '1843-04-07T05:00:00Z', 'eventType':...     10785   \n",
       "3  [{'Date': '1843-04-22T05:00:00Z', 'eventType':...      5887   \n",
       "4  [{'Date': '1843-11-18T05:00:00Z', 'eventType':...       305   \n",
       "\n",
       "                                               works  \\\n",
       "0  [{'workTitle': 'SYMPHONY NO. 5 IN C MINOR, OP....   \n",
       "1  [{'workTitle': 'SYMPHONY NO. 3 IN E FLAT MAJOR...   \n",
       "2  [{'workTitle': 'EGMONT, OP.84', 'composerName'...   \n",
       "3  [{'workTitle': 'SYMPHONY NO. 2 IN D MAJOR, OP....   \n",
       "4  [{'workTitle': 'SYMPHONY NO. 7 IN A MAJOR, OP....   \n",
       "\n",
       "                                     id  \n",
       "0  38e072a7-8fc9-4f9a-8eac-3957905c0002  \n",
       "1  c7b2b95c-5e0b-431c-a340-5b37fc860b34  \n",
       "2  894e1a52-1ae5-4fa7-aec0-b99997555a37  \n",
       "3  34ec2c2b-3297-4716-9831-b538310462b7  \n",
       "4  610a4acc-94e4-4cd6-bdc1-8ad020edc7e9  "
      ]
     },
     "execution_count": 41,
     "metadata": {},
     "output_type": "execute_result"
    }
   ],
   "source": [
    "# First 5 rows of new_file Dataframe\n",
    "new_file.head()"
   ]
  },
  {
   "cell_type": "code",
   "execution_count": 45,
   "metadata": {
    "ExecuteTime": {
     "end_time": "2021-05-24T15:48:34.060246Z",
     "start_time": "2021-05-24T15:48:33.546375Z"
    }
   },
   "outputs": [],
   "source": [
    "# Flattening one of the column having nested dictionary named 'concerts'\n",
    "# This Dataframe will include \"season\",\"orchestra\",\"programID\",\"id\",\"works\" columns with concerts\n",
    "\n",
    "new_data=pd.json_normalize(data=json_file[\"programs\"],record_path=\"concerts\",meta=[\"id\",\"orchestra\",\"programID\",\"season\"])"
   ]
  },
  {
   "cell_type": "code",
   "execution_count": 43,
   "metadata": {
    "ExecuteTime": {
     "end_time": "2021-05-24T15:40:25.124814Z",
     "start_time": "2021-05-24T15:40:25.104664Z"
    }
   },
   "outputs": [
    {
     "data": {
      "text/html": [
       "<div>\n",
       "<style scoped>\n",
       "    .dataframe tbody tr th:only-of-type {\n",
       "        vertical-align: middle;\n",
       "    }\n",
       "\n",
       "    .dataframe tbody tr th {\n",
       "        vertical-align: top;\n",
       "    }\n",
       "\n",
       "    .dataframe thead th {\n",
       "        text-align: right;\n",
       "    }\n",
       "</style>\n",
       "<table border=\"1\" class=\"dataframe\">\n",
       "  <thead>\n",
       "    <tr style=\"text-align: right;\">\n",
       "      <th></th>\n",
       "      <th>Date</th>\n",
       "      <th>eventType</th>\n",
       "      <th>Venue</th>\n",
       "      <th>Location</th>\n",
       "      <th>Time</th>\n",
       "      <th>season</th>\n",
       "      <th>orchestra</th>\n",
       "      <th>programID</th>\n",
       "      <th>id</th>\n",
       "    </tr>\n",
       "  </thead>\n",
       "  <tbody>\n",
       "    <tr>\n",
       "      <th>0</th>\n",
       "      <td>1842-12-07T05:00:00Z</td>\n",
       "      <td>Subscription Season</td>\n",
       "      <td>Apollo Rooms</td>\n",
       "      <td>Manhattan, NY</td>\n",
       "      <td>8:00PM</td>\n",
       "      <td>1842-43</td>\n",
       "      <td>New York Philharmonic</td>\n",
       "      <td>3853</td>\n",
       "      <td>38e072a7-8fc9-4f9a-8eac-3957905c0002</td>\n",
       "    </tr>\n",
       "    <tr>\n",
       "      <th>1</th>\n",
       "      <td>1843-02-18T05:00:00Z</td>\n",
       "      <td>Subscription Season</td>\n",
       "      <td>Apollo Rooms</td>\n",
       "      <td>Manhattan, NY</td>\n",
       "      <td>8:00PM</td>\n",
       "      <td>1842-43</td>\n",
       "      <td>New York Philharmonic</td>\n",
       "      <td>5178</td>\n",
       "      <td>c7b2b95c-5e0b-431c-a340-5b37fc860b34</td>\n",
       "    </tr>\n",
       "    <tr>\n",
       "      <th>2</th>\n",
       "      <td>1843-04-07T05:00:00Z</td>\n",
       "      <td>Special</td>\n",
       "      <td>Apollo Rooms</td>\n",
       "      <td>Manhattan, NY</td>\n",
       "      <td>8:00PM</td>\n",
       "      <td>1842-43</td>\n",
       "      <td>Musicians from the New York Philharmonic</td>\n",
       "      <td>10785</td>\n",
       "      <td>894e1a52-1ae5-4fa7-aec0-b99997555a37</td>\n",
       "    </tr>\n",
       "    <tr>\n",
       "      <th>3</th>\n",
       "      <td>1843-04-22T05:00:00Z</td>\n",
       "      <td>Subscription Season</td>\n",
       "      <td>Apollo Rooms</td>\n",
       "      <td>Manhattan, NY</td>\n",
       "      <td>8:00PM</td>\n",
       "      <td>1842-43</td>\n",
       "      <td>New York Philharmonic</td>\n",
       "      <td>5887</td>\n",
       "      <td>34ec2c2b-3297-4716-9831-b538310462b7</td>\n",
       "    </tr>\n",
       "    <tr>\n",
       "      <th>4</th>\n",
       "      <td>1843-11-18T05:00:00Z</td>\n",
       "      <td>Subscription Season</td>\n",
       "      <td>Apollo Rooms</td>\n",
       "      <td>Manhattan, NY</td>\n",
       "      <td>None</td>\n",
       "      <td>1843-44</td>\n",
       "      <td>New York Philharmonic</td>\n",
       "      <td>305</td>\n",
       "      <td>610a4acc-94e4-4cd6-bdc1-8ad020edc7e9</td>\n",
       "    </tr>\n",
       "  </tbody>\n",
       "</table>\n",
       "</div>"
      ],
      "text/plain": [
       "                   Date            eventType         Venue       Location  \\\n",
       "0  1842-12-07T05:00:00Z  Subscription Season  Apollo Rooms  Manhattan, NY   \n",
       "1  1843-02-18T05:00:00Z  Subscription Season  Apollo Rooms  Manhattan, NY   \n",
       "2  1843-04-07T05:00:00Z              Special  Apollo Rooms  Manhattan, NY   \n",
       "3  1843-04-22T05:00:00Z  Subscription Season  Apollo Rooms  Manhattan, NY   \n",
       "4  1843-11-18T05:00:00Z  Subscription Season  Apollo Rooms  Manhattan, NY   \n",
       "\n",
       "     Time   season                                 orchestra programID  \\\n",
       "0  8:00PM  1842-43                     New York Philharmonic      3853   \n",
       "1  8:00PM  1842-43                     New York Philharmonic      5178   \n",
       "2  8:00PM  1842-43  Musicians from the New York Philharmonic     10785   \n",
       "3  8:00PM  1842-43                     New York Philharmonic      5887   \n",
       "4    None  1843-44                     New York Philharmonic       305   \n",
       "\n",
       "                                     id  \n",
       "0  38e072a7-8fc9-4f9a-8eac-3957905c0002  \n",
       "1  c7b2b95c-5e0b-431c-a340-5b37fc860b34  \n",
       "2  894e1a52-1ae5-4fa7-aec0-b99997555a37  \n",
       "3  34ec2c2b-3297-4716-9831-b538310462b7  \n",
       "4  610a4acc-94e4-4cd6-bdc1-8ad020edc7e9  "
      ]
     },
     "execution_count": 43,
     "metadata": {},
     "output_type": "execute_result"
    }
   ],
   "source": [
    "# Dataframe with flattened 'concerts' column with 'works' column of nested dictionaries\n",
    "new_data.head()"
   ]
  },
  {
   "cell_type": "code",
   "execution_count": 46,
   "metadata": {
    "ExecuteTime": {
     "end_time": "2021-05-24T15:49:21.246206Z",
     "start_time": "2021-05-24T15:49:21.203482Z"
    }
   },
   "outputs": [],
   "source": [
    "# Rearranging the columns of Dataframe \n",
    "newdata_modified=new_data.reindex(columns=[\"Date\",\"eventType\",\"Venue\",\"Location\",\"Time\",\"id\",\"orchestra\",\"programID\",\"season\"])"
   ]
  },
  {
   "cell_type": "code",
   "execution_count": 47,
   "metadata": {
    "ExecuteTime": {
     "end_time": "2021-05-24T15:49:22.607891Z",
     "start_time": "2021-05-24T15:49:22.591838Z"
    }
   },
   "outputs": [
    {
     "data": {
      "text/html": [
       "<div>\n",
       "<style scoped>\n",
       "    .dataframe tbody tr th:only-of-type {\n",
       "        vertical-align: middle;\n",
       "    }\n",
       "\n",
       "    .dataframe tbody tr th {\n",
       "        vertical-align: top;\n",
       "    }\n",
       "\n",
       "    .dataframe thead th {\n",
       "        text-align: right;\n",
       "    }\n",
       "</style>\n",
       "<table border=\"1\" class=\"dataframe\">\n",
       "  <thead>\n",
       "    <tr style=\"text-align: right;\">\n",
       "      <th></th>\n",
       "      <th>Date</th>\n",
       "      <th>eventType</th>\n",
       "      <th>Venue</th>\n",
       "      <th>Location</th>\n",
       "      <th>Time</th>\n",
       "      <th>id</th>\n",
       "      <th>orchestra</th>\n",
       "      <th>programID</th>\n",
       "      <th>season</th>\n",
       "    </tr>\n",
       "  </thead>\n",
       "  <tbody>\n",
       "    <tr>\n",
       "      <th>0</th>\n",
       "      <td>1842-12-07T05:00:00Z</td>\n",
       "      <td>Subscription Season</td>\n",
       "      <td>Apollo Rooms</td>\n",
       "      <td>Manhattan, NY</td>\n",
       "      <td>8:00PM</td>\n",
       "      <td>38e072a7-8fc9-4f9a-8eac-3957905c0002</td>\n",
       "      <td>New York Philharmonic</td>\n",
       "      <td>3853</td>\n",
       "      <td>1842-43</td>\n",
       "    </tr>\n",
       "    <tr>\n",
       "      <th>1</th>\n",
       "      <td>1843-02-18T05:00:00Z</td>\n",
       "      <td>Subscription Season</td>\n",
       "      <td>Apollo Rooms</td>\n",
       "      <td>Manhattan, NY</td>\n",
       "      <td>8:00PM</td>\n",
       "      <td>c7b2b95c-5e0b-431c-a340-5b37fc860b34</td>\n",
       "      <td>New York Philharmonic</td>\n",
       "      <td>5178</td>\n",
       "      <td>1842-43</td>\n",
       "    </tr>\n",
       "    <tr>\n",
       "      <th>2</th>\n",
       "      <td>1843-04-07T05:00:00Z</td>\n",
       "      <td>Special</td>\n",
       "      <td>Apollo Rooms</td>\n",
       "      <td>Manhattan, NY</td>\n",
       "      <td>8:00PM</td>\n",
       "      <td>894e1a52-1ae5-4fa7-aec0-b99997555a37</td>\n",
       "      <td>Musicians from the New York Philharmonic</td>\n",
       "      <td>10785</td>\n",
       "      <td>1842-43</td>\n",
       "    </tr>\n",
       "    <tr>\n",
       "      <th>3</th>\n",
       "      <td>1843-04-22T05:00:00Z</td>\n",
       "      <td>Subscription Season</td>\n",
       "      <td>Apollo Rooms</td>\n",
       "      <td>Manhattan, NY</td>\n",
       "      <td>8:00PM</td>\n",
       "      <td>34ec2c2b-3297-4716-9831-b538310462b7</td>\n",
       "      <td>New York Philharmonic</td>\n",
       "      <td>5887</td>\n",
       "      <td>1842-43</td>\n",
       "    </tr>\n",
       "    <tr>\n",
       "      <th>4</th>\n",
       "      <td>1843-11-18T05:00:00Z</td>\n",
       "      <td>Subscription Season</td>\n",
       "      <td>Apollo Rooms</td>\n",
       "      <td>Manhattan, NY</td>\n",
       "      <td>None</td>\n",
       "      <td>610a4acc-94e4-4cd6-bdc1-8ad020edc7e9</td>\n",
       "      <td>New York Philharmonic</td>\n",
       "      <td>305</td>\n",
       "      <td>1843-44</td>\n",
       "    </tr>\n",
       "  </tbody>\n",
       "</table>\n",
       "</div>"
      ],
      "text/plain": [
       "                   Date            eventType         Venue       Location  \\\n",
       "0  1842-12-07T05:00:00Z  Subscription Season  Apollo Rooms  Manhattan, NY   \n",
       "1  1843-02-18T05:00:00Z  Subscription Season  Apollo Rooms  Manhattan, NY   \n",
       "2  1843-04-07T05:00:00Z              Special  Apollo Rooms  Manhattan, NY   \n",
       "3  1843-04-22T05:00:00Z  Subscription Season  Apollo Rooms  Manhattan, NY   \n",
       "4  1843-11-18T05:00:00Z  Subscription Season  Apollo Rooms  Manhattan, NY   \n",
       "\n",
       "     Time                                    id  \\\n",
       "0  8:00PM  38e072a7-8fc9-4f9a-8eac-3957905c0002   \n",
       "1  8:00PM  c7b2b95c-5e0b-431c-a340-5b37fc860b34   \n",
       "2  8:00PM  894e1a52-1ae5-4fa7-aec0-b99997555a37   \n",
       "3  8:00PM  34ec2c2b-3297-4716-9831-b538310462b7   \n",
       "4    None  610a4acc-94e4-4cd6-bdc1-8ad020edc7e9   \n",
       "\n",
       "                                  orchestra programID   season  \n",
       "0                     New York Philharmonic      3853  1842-43  \n",
       "1                     New York Philharmonic      5178  1842-43  \n",
       "2  Musicians from the New York Philharmonic     10785  1842-43  \n",
       "3                     New York Philharmonic      5887  1842-43  \n",
       "4                     New York Philharmonic       305  1843-44  "
      ]
     },
     "execution_count": 47,
     "metadata": {},
     "output_type": "execute_result"
    }
   ],
   "source": [
    "# Dataframe without 'works' column and rearranged\n",
    "newdata_modified.head()"
   ]
  },
  {
   "cell_type": "markdown",
   "metadata": {},
   "source": [
    "### Normalize a json data to get an output with columns \n",
    "- soloistName ,soloistRoles, soloistInstrument ,id"
   ]
  },
  {
   "cell_type": "code",
   "execution_count": 49,
   "metadata": {
    "ExecuteTime": {
     "end_time": "2021-05-24T15:50:44.605266Z",
     "start_time": "2021-05-24T15:50:44.566456Z"
    }
   },
   "outputs": [
    {
     "data": {
      "text/plain": [
       "0    [{'workTitle': 'SYMPHONY NO. 5 IN C MINOR, OP....\n",
       "1    [{'workTitle': 'SYMPHONY NO. 3 IN E FLAT MAJOR...\n",
       "2    [{'workTitle': 'EGMONT, OP.84', 'composerName'...\n",
       "3    [{'workTitle': 'SYMPHONY NO. 2 IN D MAJOR, OP....\n",
       "4    [{'workTitle': 'SYMPHONY NO. 7 IN A MAJOR, OP....\n",
       "Name: works, dtype: object"
      ]
     },
     "execution_count": 49,
     "metadata": {},
     "output_type": "execute_result"
    }
   ],
   "source": [
    "# Showing the first 5 rows of column'works' which includes nested dictionaries in Dataframe'new_data'\n",
    "new_file[\"works\"][:5]"
   ]
  },
  {
   "cell_type": "code",
   "execution_count": 50,
   "metadata": {
    "ExecuteTime": {
     "end_time": "2021-05-24T15:51:15.200904Z",
     "start_time": "2021-05-24T15:51:12.009533Z"
    }
   },
   "outputs": [],
   "source": [
    "# Normalizing the column 'works' and including column 'id'\n",
    "work_data=pd.json_normalize(data=json_file[\"programs\"],record_path=\"works\",meta=[\"id\"])"
   ]
  },
  {
   "cell_type": "code",
   "execution_count": 51,
   "metadata": {
    "ExecuteTime": {
     "end_time": "2021-05-24T15:51:16.317885Z",
     "start_time": "2021-05-24T15:51:16.282775Z"
    }
   },
   "outputs": [
    {
     "data": {
      "text/html": [
       "<div>\n",
       "<style scoped>\n",
       "    .dataframe tbody tr th:only-of-type {\n",
       "        vertical-align: middle;\n",
       "    }\n",
       "\n",
       "    .dataframe tbody tr th {\n",
       "        vertical-align: top;\n",
       "    }\n",
       "\n",
       "    .dataframe thead th {\n",
       "        text-align: right;\n",
       "    }\n",
       "</style>\n",
       "<table border=\"1\" class=\"dataframe\">\n",
       "  <thead>\n",
       "    <tr style=\"text-align: right;\">\n",
       "      <th></th>\n",
       "      <th>workTitle</th>\n",
       "      <th>conductorName</th>\n",
       "      <th>ID</th>\n",
       "      <th>soloists</th>\n",
       "      <th>composerName</th>\n",
       "      <th>movement</th>\n",
       "      <th>interval</th>\n",
       "      <th>movement.em</th>\n",
       "      <th>movement._</th>\n",
       "      <th>workTitle.em</th>\n",
       "      <th>workTitle._</th>\n",
       "      <th>id</th>\n",
       "    </tr>\n",
       "  </thead>\n",
       "  <tbody>\n",
       "    <tr>\n",
       "      <th>0</th>\n",
       "      <td>SYMPHONY NO. 5 IN C MINOR, OP.67</td>\n",
       "      <td>Hill, Ureli Corelli</td>\n",
       "      <td>52446*</td>\n",
       "      <td>[]</td>\n",
       "      <td>Beethoven,  Ludwig  van</td>\n",
       "      <td>NaN</td>\n",
       "      <td>NaN</td>\n",
       "      <td>NaN</td>\n",
       "      <td>NaN</td>\n",
       "      <td>NaN</td>\n",
       "      <td>NaN</td>\n",
       "      <td>38e072a7-8fc9-4f9a-8eac-3957905c0002</td>\n",
       "    </tr>\n",
       "    <tr>\n",
       "      <th>1</th>\n",
       "      <td>OBERON</td>\n",
       "      <td>Timm, Henry C.</td>\n",
       "      <td>8834*4</td>\n",
       "      <td>[{'soloistName': 'Otto, Antoinette', 'soloistR...</td>\n",
       "      <td>Weber,  Carl  Maria Von</td>\n",
       "      <td>\"Ozean, du Ungeheuer\" (Ocean, thou mighty mons...</td>\n",
       "      <td>NaN</td>\n",
       "      <td>NaN</td>\n",
       "      <td>NaN</td>\n",
       "      <td>NaN</td>\n",
       "      <td>NaN</td>\n",
       "      <td>38e072a7-8fc9-4f9a-8eac-3957905c0002</td>\n",
       "    </tr>\n",
       "    <tr>\n",
       "      <th>2</th>\n",
       "      <td>QUINTET, PIANO, D MINOR, OP. 74</td>\n",
       "      <td>NaN</td>\n",
       "      <td>3642*</td>\n",
       "      <td>[{'soloistName': 'Scharfenberg, William', 'sol...</td>\n",
       "      <td>Hummel,  Johann</td>\n",
       "      <td>NaN</td>\n",
       "      <td>NaN</td>\n",
       "      <td>NaN</td>\n",
       "      <td>NaN</td>\n",
       "      <td>NaN</td>\n",
       "      <td>NaN</td>\n",
       "      <td>38e072a7-8fc9-4f9a-8eac-3957905c0002</td>\n",
       "    </tr>\n",
       "    <tr>\n",
       "      <th>3</th>\n",
       "      <td>NaN</td>\n",
       "      <td>NaN</td>\n",
       "      <td>0*</td>\n",
       "      <td>[]</td>\n",
       "      <td>NaN</td>\n",
       "      <td>NaN</td>\n",
       "      <td>Intermission</td>\n",
       "      <td>NaN</td>\n",
       "      <td>NaN</td>\n",
       "      <td>NaN</td>\n",
       "      <td>NaN</td>\n",
       "      <td>38e072a7-8fc9-4f9a-8eac-3957905c0002</td>\n",
       "    </tr>\n",
       "    <tr>\n",
       "      <th>4</th>\n",
       "      <td>OBERON</td>\n",
       "      <td>Etienne, Denis G.</td>\n",
       "      <td>8834*3</td>\n",
       "      <td>[]</td>\n",
       "      <td>Weber,  Carl  Maria Von</td>\n",
       "      <td>Overture</td>\n",
       "      <td>NaN</td>\n",
       "      <td>NaN</td>\n",
       "      <td>NaN</td>\n",
       "      <td>NaN</td>\n",
       "      <td>NaN</td>\n",
       "      <td>38e072a7-8fc9-4f9a-8eac-3957905c0002</td>\n",
       "    </tr>\n",
       "  </tbody>\n",
       "</table>\n",
       "</div>"
      ],
      "text/plain": [
       "                          workTitle        conductorName      ID  \\\n",
       "0  SYMPHONY NO. 5 IN C MINOR, OP.67  Hill, Ureli Corelli  52446*   \n",
       "1                            OBERON       Timm, Henry C.  8834*4   \n",
       "2   QUINTET, PIANO, D MINOR, OP. 74                  NaN   3642*   \n",
       "3                               NaN                  NaN      0*   \n",
       "4                            OBERON    Etienne, Denis G.  8834*3   \n",
       "\n",
       "                                            soloists             composerName  \\\n",
       "0                                                 []  Beethoven,  Ludwig  van   \n",
       "1  [{'soloistName': 'Otto, Antoinette', 'soloistR...  Weber,  Carl  Maria Von   \n",
       "2  [{'soloistName': 'Scharfenberg, William', 'sol...          Hummel,  Johann   \n",
       "3                                                 []                      NaN   \n",
       "4                                                 []  Weber,  Carl  Maria Von   \n",
       "\n",
       "                                            movement      interval  \\\n",
       "0                                                NaN           NaN   \n",
       "1  \"Ozean, du Ungeheuer\" (Ocean, thou mighty mons...           NaN   \n",
       "2                                                NaN           NaN   \n",
       "3                                                NaN  Intermission   \n",
       "4                                           Overture           NaN   \n",
       "\n",
       "  movement.em movement._ workTitle.em workTitle._  \\\n",
       "0         NaN        NaN          NaN         NaN   \n",
       "1         NaN        NaN          NaN         NaN   \n",
       "2         NaN        NaN          NaN         NaN   \n",
       "3         NaN        NaN          NaN         NaN   \n",
       "4         NaN        NaN          NaN         NaN   \n",
       "\n",
       "                                     id  \n",
       "0  38e072a7-8fc9-4f9a-8eac-3957905c0002  \n",
       "1  38e072a7-8fc9-4f9a-8eac-3957905c0002  \n",
       "2  38e072a7-8fc9-4f9a-8eac-3957905c0002  \n",
       "3  38e072a7-8fc9-4f9a-8eac-3957905c0002  \n",
       "4  38e072a7-8fc9-4f9a-8eac-3957905c0002  "
      ]
     },
     "execution_count": 51,
     "metadata": {},
     "output_type": "execute_result"
    }
   ],
   "source": [
    "# Showing first 5 rows of Dataframe 'work_data'\n",
    "work_data.head()"
   ]
  },
  {
   "cell_type": "code",
   "execution_count": 52,
   "metadata": {
    "ExecuteTime": {
     "end_time": "2021-05-24T15:51:34.538144Z",
     "start_time": "2021-05-24T15:51:33.622118Z"
    }
   },
   "outputs": [],
   "source": [
    "# Normalizing the column 'soloists' which present inside the column 'works' and including column 'id'\n",
    "soloist_data=pd.json_normalize(data=json_file[\"programs\"],record_path=[\"works\",\"soloists\"],meta=\"id\")"
   ]
  },
  {
   "cell_type": "code",
   "execution_count": 54,
   "metadata": {
    "ExecuteTime": {
     "end_time": "2021-05-24T15:51:58.947656Z",
     "start_time": "2021-05-24T15:51:58.929896Z"
    }
   },
   "outputs": [
    {
     "data": {
      "text/html": [
       "<div>\n",
       "<style scoped>\n",
       "    .dataframe tbody tr th:only-of-type {\n",
       "        vertical-align: middle;\n",
       "    }\n",
       "\n",
       "    .dataframe tbody tr th {\n",
       "        vertical-align: top;\n",
       "    }\n",
       "\n",
       "    .dataframe thead th {\n",
       "        text-align: right;\n",
       "    }\n",
       "</style>\n",
       "<table border=\"1\" class=\"dataframe\">\n",
       "  <thead>\n",
       "    <tr style=\"text-align: right;\">\n",
       "      <th></th>\n",
       "      <th>soloistName</th>\n",
       "      <th>soloistRoles</th>\n",
       "      <th>soloistInstrument</th>\n",
       "      <th>id</th>\n",
       "    </tr>\n",
       "  </thead>\n",
       "  <tbody>\n",
       "    <tr>\n",
       "      <th>0</th>\n",
       "      <td>Otto, Antoinette</td>\n",
       "      <td>S</td>\n",
       "      <td>Soprano</td>\n",
       "      <td>38e072a7-8fc9-4f9a-8eac-3957905c0002</td>\n",
       "    </tr>\n",
       "    <tr>\n",
       "      <th>1</th>\n",
       "      <td>Scharfenberg, William</td>\n",
       "      <td>A</td>\n",
       "      <td>Piano</td>\n",
       "      <td>38e072a7-8fc9-4f9a-8eac-3957905c0002</td>\n",
       "    </tr>\n",
       "    <tr>\n",
       "      <th>2</th>\n",
       "      <td>Hill, Ureli Corelli</td>\n",
       "      <td>A</td>\n",
       "      <td>Violin</td>\n",
       "      <td>38e072a7-8fc9-4f9a-8eac-3957905c0002</td>\n",
       "    </tr>\n",
       "    <tr>\n",
       "      <th>3</th>\n",
       "      <td>Derwort, G. H.</td>\n",
       "      <td>A</td>\n",
       "      <td>Viola</td>\n",
       "      <td>38e072a7-8fc9-4f9a-8eac-3957905c0002</td>\n",
       "    </tr>\n",
       "    <tr>\n",
       "      <th>4</th>\n",
       "      <td>Boucher, Alfred</td>\n",
       "      <td>A</td>\n",
       "      <td>Cello</td>\n",
       "      <td>38e072a7-8fc9-4f9a-8eac-3957905c0002</td>\n",
       "    </tr>\n",
       "    <tr>\n",
       "      <th>...</th>\n",
       "      <td>...</td>\n",
       "      <td>...</td>\n",
       "      <td>...</td>\n",
       "      <td>...</td>\n",
       "    </tr>\n",
       "    <tr>\n",
       "      <th>56189</th>\n",
       "      <td>Xu, Weiqin</td>\n",
       "      <td>S</td>\n",
       "      <td>Baritone</td>\n",
       "      <td>68625626-8085-44e4-bdb3-d8e6ac51c95b</td>\n",
       "    </tr>\n",
       "    <tr>\n",
       "      <th>56190</th>\n",
       "      <td>Martin, Christopher</td>\n",
       "      <td>S</td>\n",
       "      <td>Trumpet</td>\n",
       "      <td>5c22d35f-a282-4505-bd31-df619c74f52b</td>\n",
       "    </tr>\n",
       "    <tr>\n",
       "      <th>56191</th>\n",
       "      <td>Shryock, Grace</td>\n",
       "      <td>S</td>\n",
       "      <td>English Horn</td>\n",
       "      <td>5c22d35f-a282-4505-bd31-df619c74f52b</td>\n",
       "    </tr>\n",
       "    <tr>\n",
       "      <th>56192</th>\n",
       "      <td>Jazz at Lincoln Center Orchestra with Wynton M...</td>\n",
       "      <td>S</td>\n",
       "      <td>Jazz Ensemble</td>\n",
       "      <td>5c22d35f-a282-4505-bd31-df619c74f52b</td>\n",
       "    </tr>\n",
       "    <tr>\n",
       "      <th>56193</th>\n",
       "      <td>Jazz at Lincoln Center Orchestra with Wynton M...</td>\n",
       "      <td>S</td>\n",
       "      <td>Jazz Ensemble</td>\n",
       "      <td>5c22d35f-a282-4505-bd31-df619c74f52b</td>\n",
       "    </tr>\n",
       "  </tbody>\n",
       "</table>\n",
       "<p>56194 rows × 4 columns</p>\n",
       "</div>"
      ],
      "text/plain": [
       "                                             soloistName soloistRoles  \\\n",
       "0                                       Otto, Antoinette            S   \n",
       "1                                  Scharfenberg, William            A   \n",
       "2                                    Hill, Ureli Corelli            A   \n",
       "3                                         Derwort, G. H.            A   \n",
       "4                                        Boucher, Alfred            A   \n",
       "...                                                  ...          ...   \n",
       "56189                                         Xu, Weiqin            S   \n",
       "56190                                Martin, Christopher            S   \n",
       "56191                                     Shryock, Grace            S   \n",
       "56192  Jazz at Lincoln Center Orchestra with Wynton M...            S   \n",
       "56193  Jazz at Lincoln Center Orchestra with Wynton M...            S   \n",
       "\n",
       "      soloistInstrument                                    id  \n",
       "0               Soprano  38e072a7-8fc9-4f9a-8eac-3957905c0002  \n",
       "1                 Piano  38e072a7-8fc9-4f9a-8eac-3957905c0002  \n",
       "2                Violin  38e072a7-8fc9-4f9a-8eac-3957905c0002  \n",
       "3                 Viola  38e072a7-8fc9-4f9a-8eac-3957905c0002  \n",
       "4                 Cello  38e072a7-8fc9-4f9a-8eac-3957905c0002  \n",
       "...                 ...                                   ...  \n",
       "56189          Baritone  68625626-8085-44e4-bdb3-d8e6ac51c95b  \n",
       "56190           Trumpet  5c22d35f-a282-4505-bd31-df619c74f52b  \n",
       "56191      English Horn  5c22d35f-a282-4505-bd31-df619c74f52b  \n",
       "56192     Jazz Ensemble  5c22d35f-a282-4505-bd31-df619c74f52b  \n",
       "56193     Jazz Ensemble  5c22d35f-a282-4505-bd31-df619c74f52b  \n",
       "\n",
       "[56194 rows x 4 columns]"
      ]
     },
     "execution_count": 54,
     "metadata": {},
     "output_type": "execute_result"
    }
   ],
   "source": [
    "# Flattened 'soloists' column \n",
    "soloist_data"
   ]
  },
  {
   "cell_type": "markdown",
   "metadata": {},
   "source": [
    "### Normalize a json to get an output with columns\n",
    "- soloistName, soloistRoles, soloistInstrument, id ,orchestra, programID ,season ,Date, eventType, Venue ,Location, Time"
   ]
  },
  {
   "cell_type": "code",
   "execution_count": 76,
   "metadata": {
    "ExecuteTime": {
     "end_time": "2021-05-24T16:22:40.459873Z",
     "start_time": "2021-05-24T16:22:39.415872Z"
    }
   },
   "outputs": [],
   "source": [
    "P1=pd.json_normalize(data=json_file[\"programs\"],record_path=[\"works\",\"soloists\"],meta=[\"id\",\"concerts\"])"
   ]
  },
  {
   "cell_type": "code",
   "execution_count": 77,
   "metadata": {
    "ExecuteTime": {
     "end_time": "2021-05-24T16:22:40.893784Z",
     "start_time": "2021-05-24T16:22:40.859885Z"
    }
   },
   "outputs": [
    {
     "data": {
      "text/html": [
       "<div>\n",
       "<style scoped>\n",
       "    .dataframe tbody tr th:only-of-type {\n",
       "        vertical-align: middle;\n",
       "    }\n",
       "\n",
       "    .dataframe tbody tr th {\n",
       "        vertical-align: top;\n",
       "    }\n",
       "\n",
       "    .dataframe thead th {\n",
       "        text-align: right;\n",
       "    }\n",
       "</style>\n",
       "<table border=\"1\" class=\"dataframe\">\n",
       "  <thead>\n",
       "    <tr style=\"text-align: right;\">\n",
       "      <th></th>\n",
       "      <th>soloistName</th>\n",
       "      <th>soloistRoles</th>\n",
       "      <th>soloistInstrument</th>\n",
       "      <th>id</th>\n",
       "      <th>concerts</th>\n",
       "    </tr>\n",
       "  </thead>\n",
       "  <tbody>\n",
       "    <tr>\n",
       "      <th>0</th>\n",
       "      <td>Otto, Antoinette</td>\n",
       "      <td>S</td>\n",
       "      <td>Soprano</td>\n",
       "      <td>38e072a7-8fc9-4f9a-8eac-3957905c0002</td>\n",
       "      <td>[{'Date': '1842-12-07T05:00:00Z', 'eventType':...</td>\n",
       "    </tr>\n",
       "    <tr>\n",
       "      <th>1</th>\n",
       "      <td>Scharfenberg, William</td>\n",
       "      <td>A</td>\n",
       "      <td>Piano</td>\n",
       "      <td>38e072a7-8fc9-4f9a-8eac-3957905c0002</td>\n",
       "      <td>[{'Date': '1842-12-07T05:00:00Z', 'eventType':...</td>\n",
       "    </tr>\n",
       "    <tr>\n",
       "      <th>2</th>\n",
       "      <td>Hill, Ureli Corelli</td>\n",
       "      <td>A</td>\n",
       "      <td>Violin</td>\n",
       "      <td>38e072a7-8fc9-4f9a-8eac-3957905c0002</td>\n",
       "      <td>[{'Date': '1842-12-07T05:00:00Z', 'eventType':...</td>\n",
       "    </tr>\n",
       "    <tr>\n",
       "      <th>3</th>\n",
       "      <td>Derwort, G. H.</td>\n",
       "      <td>A</td>\n",
       "      <td>Viola</td>\n",
       "      <td>38e072a7-8fc9-4f9a-8eac-3957905c0002</td>\n",
       "      <td>[{'Date': '1842-12-07T05:00:00Z', 'eventType':...</td>\n",
       "    </tr>\n",
       "    <tr>\n",
       "      <th>4</th>\n",
       "      <td>Boucher, Alfred</td>\n",
       "      <td>A</td>\n",
       "      <td>Cello</td>\n",
       "      <td>38e072a7-8fc9-4f9a-8eac-3957905c0002</td>\n",
       "      <td>[{'Date': '1842-12-07T05:00:00Z', 'eventType':...</td>\n",
       "    </tr>\n",
       "    <tr>\n",
       "      <th>...</th>\n",
       "      <td>...</td>\n",
       "      <td>...</td>\n",
       "      <td>...</td>\n",
       "      <td>...</td>\n",
       "      <td>...</td>\n",
       "    </tr>\n",
       "    <tr>\n",
       "      <th>56189</th>\n",
       "      <td>Xu, Weiqin</td>\n",
       "      <td>S</td>\n",
       "      <td>Baritone</td>\n",
       "      <td>68625626-8085-44e4-bdb3-d8e6ac51c95b</td>\n",
       "      <td>[{'Date': '2017-07-04T04:00:00Z', 'eventType':...</td>\n",
       "    </tr>\n",
       "    <tr>\n",
       "      <th>56190</th>\n",
       "      <td>Martin, Christopher</td>\n",
       "      <td>S</td>\n",
       "      <td>Trumpet</td>\n",
       "      <td>5c22d35f-a282-4505-bd31-df619c74f52b</td>\n",
       "      <td>[{'Date': '2017-07-07T04:00:00Z', 'eventType':...</td>\n",
       "    </tr>\n",
       "    <tr>\n",
       "      <th>56191</th>\n",
       "      <td>Shryock, Grace</td>\n",
       "      <td>S</td>\n",
       "      <td>English Horn</td>\n",
       "      <td>5c22d35f-a282-4505-bd31-df619c74f52b</td>\n",
       "      <td>[{'Date': '2017-07-07T04:00:00Z', 'eventType':...</td>\n",
       "    </tr>\n",
       "    <tr>\n",
       "      <th>56192</th>\n",
       "      <td>Jazz at Lincoln Center Orchestra with Wynton M...</td>\n",
       "      <td>S</td>\n",
       "      <td>Jazz Ensemble</td>\n",
       "      <td>5c22d35f-a282-4505-bd31-df619c74f52b</td>\n",
       "      <td>[{'Date': '2017-07-07T04:00:00Z', 'eventType':...</td>\n",
       "    </tr>\n",
       "    <tr>\n",
       "      <th>56193</th>\n",
       "      <td>Jazz at Lincoln Center Orchestra with Wynton M...</td>\n",
       "      <td>S</td>\n",
       "      <td>Jazz Ensemble</td>\n",
       "      <td>5c22d35f-a282-4505-bd31-df619c74f52b</td>\n",
       "      <td>[{'Date': '2017-07-07T04:00:00Z', 'eventType':...</td>\n",
       "    </tr>\n",
       "  </tbody>\n",
       "</table>\n",
       "<p>56194 rows × 5 columns</p>\n",
       "</div>"
      ],
      "text/plain": [
       "                                             soloistName soloistRoles  \\\n",
       "0                                       Otto, Antoinette            S   \n",
       "1                                  Scharfenberg, William            A   \n",
       "2                                    Hill, Ureli Corelli            A   \n",
       "3                                         Derwort, G. H.            A   \n",
       "4                                        Boucher, Alfred            A   \n",
       "...                                                  ...          ...   \n",
       "56189                                         Xu, Weiqin            S   \n",
       "56190                                Martin, Christopher            S   \n",
       "56191                                     Shryock, Grace            S   \n",
       "56192  Jazz at Lincoln Center Orchestra with Wynton M...            S   \n",
       "56193  Jazz at Lincoln Center Orchestra with Wynton M...            S   \n",
       "\n",
       "      soloistInstrument                                    id  \\\n",
       "0               Soprano  38e072a7-8fc9-4f9a-8eac-3957905c0002   \n",
       "1                 Piano  38e072a7-8fc9-4f9a-8eac-3957905c0002   \n",
       "2                Violin  38e072a7-8fc9-4f9a-8eac-3957905c0002   \n",
       "3                 Viola  38e072a7-8fc9-4f9a-8eac-3957905c0002   \n",
       "4                 Cello  38e072a7-8fc9-4f9a-8eac-3957905c0002   \n",
       "...                 ...                                   ...   \n",
       "56189          Baritone  68625626-8085-44e4-bdb3-d8e6ac51c95b   \n",
       "56190           Trumpet  5c22d35f-a282-4505-bd31-df619c74f52b   \n",
       "56191      English Horn  5c22d35f-a282-4505-bd31-df619c74f52b   \n",
       "56192     Jazz Ensemble  5c22d35f-a282-4505-bd31-df619c74f52b   \n",
       "56193     Jazz Ensemble  5c22d35f-a282-4505-bd31-df619c74f52b   \n",
       "\n",
       "                                                concerts  \n",
       "0      [{'Date': '1842-12-07T05:00:00Z', 'eventType':...  \n",
       "1      [{'Date': '1842-12-07T05:00:00Z', 'eventType':...  \n",
       "2      [{'Date': '1842-12-07T05:00:00Z', 'eventType':...  \n",
       "3      [{'Date': '1842-12-07T05:00:00Z', 'eventType':...  \n",
       "4      [{'Date': '1842-12-07T05:00:00Z', 'eventType':...  \n",
       "...                                                  ...  \n",
       "56189  [{'Date': '2017-07-04T04:00:00Z', 'eventType':...  \n",
       "56190  [{'Date': '2017-07-07T04:00:00Z', 'eventType':...  \n",
       "56191  [{'Date': '2017-07-07T04:00:00Z', 'eventType':...  \n",
       "56192  [{'Date': '2017-07-07T04:00:00Z', 'eventType':...  \n",
       "56193  [{'Date': '2017-07-07T04:00:00Z', 'eventType':...  \n",
       "\n",
       "[56194 rows x 5 columns]"
      ]
     },
     "execution_count": 77,
     "metadata": {},
     "output_type": "execute_result"
    }
   ],
   "source": [
    "P1"
   ]
  },
  {
   "cell_type": "code",
   "execution_count": 78,
   "metadata": {
    "ExecuteTime": {
     "end_time": "2021-05-24T16:23:59.662467Z",
     "start_time": "2021-05-24T16:23:47.936196Z"
    }
   },
   "outputs": [],
   "source": [
    "concert=P1[\"concerts\"].apply(pd.Series)\n",
    "P2=pd.json_normalize(concert[0])"
   ]
  },
  {
   "cell_type": "code",
   "execution_count": 79,
   "metadata": {
    "ExecuteTime": {
     "end_time": "2021-05-24T16:23:59.917633Z",
     "start_time": "2021-05-24T16:23:59.902440Z"
    }
   },
   "outputs": [
    {
     "data": {
      "text/html": [
       "<div>\n",
       "<style scoped>\n",
       "    .dataframe tbody tr th:only-of-type {\n",
       "        vertical-align: middle;\n",
       "    }\n",
       "\n",
       "    .dataframe tbody tr th {\n",
       "        vertical-align: top;\n",
       "    }\n",
       "\n",
       "    .dataframe thead th {\n",
       "        text-align: right;\n",
       "    }\n",
       "</style>\n",
       "<table border=\"1\" class=\"dataframe\">\n",
       "  <thead>\n",
       "    <tr style=\"text-align: right;\">\n",
       "      <th></th>\n",
       "      <th>Date</th>\n",
       "      <th>eventType</th>\n",
       "      <th>Venue</th>\n",
       "      <th>Location</th>\n",
       "      <th>Time</th>\n",
       "    </tr>\n",
       "  </thead>\n",
       "  <tbody>\n",
       "    <tr>\n",
       "      <th>0</th>\n",
       "      <td>1842-12-07T05:00:00Z</td>\n",
       "      <td>Subscription Season</td>\n",
       "      <td>Apollo Rooms</td>\n",
       "      <td>Manhattan, NY</td>\n",
       "      <td>8:00PM</td>\n",
       "    </tr>\n",
       "    <tr>\n",
       "      <th>1</th>\n",
       "      <td>1842-12-07T05:00:00Z</td>\n",
       "      <td>Subscription Season</td>\n",
       "      <td>Apollo Rooms</td>\n",
       "      <td>Manhattan, NY</td>\n",
       "      <td>8:00PM</td>\n",
       "    </tr>\n",
       "    <tr>\n",
       "      <th>2</th>\n",
       "      <td>1842-12-07T05:00:00Z</td>\n",
       "      <td>Subscription Season</td>\n",
       "      <td>Apollo Rooms</td>\n",
       "      <td>Manhattan, NY</td>\n",
       "      <td>8:00PM</td>\n",
       "    </tr>\n",
       "    <tr>\n",
       "      <th>3</th>\n",
       "      <td>1842-12-07T05:00:00Z</td>\n",
       "      <td>Subscription Season</td>\n",
       "      <td>Apollo Rooms</td>\n",
       "      <td>Manhattan, NY</td>\n",
       "      <td>8:00PM</td>\n",
       "    </tr>\n",
       "    <tr>\n",
       "      <th>4</th>\n",
       "      <td>1842-12-07T05:00:00Z</td>\n",
       "      <td>Subscription Season</td>\n",
       "      <td>Apollo Rooms</td>\n",
       "      <td>Manhattan, NY</td>\n",
       "      <td>8:00PM</td>\n",
       "    </tr>\n",
       "    <tr>\n",
       "      <th>...</th>\n",
       "      <td>...</td>\n",
       "      <td>...</td>\n",
       "      <td>...</td>\n",
       "      <td>...</td>\n",
       "      <td>...</td>\n",
       "    </tr>\n",
       "    <tr>\n",
       "      <th>56189</th>\n",
       "      <td>2017-07-04T04:00:00Z</td>\n",
       "      <td>Tour - Young People's Concert</td>\n",
       "      <td>Shanghai Symphony Hall--Chamber Hall</td>\n",
       "      <td>Shanghai, CHINA</td>\n",
       "      <td>7:30PM</td>\n",
       "    </tr>\n",
       "    <tr>\n",
       "      <th>56190</th>\n",
       "      <td>2017-07-07T04:00:00Z</td>\n",
       "      <td>Tour</td>\n",
       "      <td>Shanghai Symphony Hall</td>\n",
       "      <td>Shanghai, CHINA</td>\n",
       "      <td>7:30PM</td>\n",
       "    </tr>\n",
       "    <tr>\n",
       "      <th>56191</th>\n",
       "      <td>2017-07-07T04:00:00Z</td>\n",
       "      <td>Tour</td>\n",
       "      <td>Shanghai Symphony Hall</td>\n",
       "      <td>Shanghai, CHINA</td>\n",
       "      <td>7:30PM</td>\n",
       "    </tr>\n",
       "    <tr>\n",
       "      <th>56192</th>\n",
       "      <td>2017-07-07T04:00:00Z</td>\n",
       "      <td>Tour</td>\n",
       "      <td>Shanghai Symphony Hall</td>\n",
       "      <td>Shanghai, CHINA</td>\n",
       "      <td>7:30PM</td>\n",
       "    </tr>\n",
       "    <tr>\n",
       "      <th>56193</th>\n",
       "      <td>2017-07-07T04:00:00Z</td>\n",
       "      <td>Tour</td>\n",
       "      <td>Shanghai Symphony Hall</td>\n",
       "      <td>Shanghai, CHINA</td>\n",
       "      <td>7:30PM</td>\n",
       "    </tr>\n",
       "  </tbody>\n",
       "</table>\n",
       "<p>56194 rows × 5 columns</p>\n",
       "</div>"
      ],
      "text/plain": [
       "                       Date                      eventType  \\\n",
       "0      1842-12-07T05:00:00Z            Subscription Season   \n",
       "1      1842-12-07T05:00:00Z            Subscription Season   \n",
       "2      1842-12-07T05:00:00Z            Subscription Season   \n",
       "3      1842-12-07T05:00:00Z            Subscription Season   \n",
       "4      1842-12-07T05:00:00Z            Subscription Season   \n",
       "...                     ...                            ...   \n",
       "56189  2017-07-04T04:00:00Z  Tour - Young People's Concert   \n",
       "56190  2017-07-07T04:00:00Z                           Tour   \n",
       "56191  2017-07-07T04:00:00Z                           Tour   \n",
       "56192  2017-07-07T04:00:00Z                           Tour   \n",
       "56193  2017-07-07T04:00:00Z                           Tour   \n",
       "\n",
       "                                      Venue         Location    Time  \n",
       "0                              Apollo Rooms    Manhattan, NY  8:00PM  \n",
       "1                              Apollo Rooms    Manhattan, NY  8:00PM  \n",
       "2                              Apollo Rooms    Manhattan, NY  8:00PM  \n",
       "3                              Apollo Rooms    Manhattan, NY  8:00PM  \n",
       "4                              Apollo Rooms    Manhattan, NY  8:00PM  \n",
       "...                                     ...              ...     ...  \n",
       "56189  Shanghai Symphony Hall--Chamber Hall  Shanghai, CHINA  7:30PM  \n",
       "56190                Shanghai Symphony Hall  Shanghai, CHINA  7:30PM  \n",
       "56191                Shanghai Symphony Hall  Shanghai, CHINA  7:30PM  \n",
       "56192                Shanghai Symphony Hall  Shanghai, CHINA  7:30PM  \n",
       "56193                Shanghai Symphony Hall  Shanghai, CHINA  7:30PM  \n",
       "\n",
       "[56194 rows x 5 columns]"
      ]
     },
     "execution_count": 79,
     "metadata": {},
     "output_type": "execute_result"
    }
   ],
   "source": [
    "P2"
   ]
  },
  {
   "cell_type": "code",
   "execution_count": 80,
   "metadata": {
    "ExecuteTime": {
     "end_time": "2021-05-24T16:29:47.251504Z",
     "start_time": "2021-05-24T16:29:47.211508Z"
    }
   },
   "outputs": [],
   "source": [
    "final=pd.concat([P1,P2],axis=1)"
   ]
  },
  {
   "cell_type": "code",
   "execution_count": 85,
   "metadata": {
    "ExecuteTime": {
     "end_time": "2021-05-24T16:30:51.976893Z",
     "start_time": "2021-05-24T16:30:51.936060Z"
    }
   },
   "outputs": [],
   "source": [
    "final.drop(columns=\"concerts\",inplace=True)"
   ]
  },
  {
   "cell_type": "code",
   "execution_count": 86,
   "metadata": {
    "ExecuteTime": {
     "end_time": "2021-05-24T16:30:55.858817Z",
     "start_time": "2021-05-24T16:30:55.831821Z"
    }
   },
   "outputs": [
    {
     "data": {
      "text/html": [
       "<div>\n",
       "<style scoped>\n",
       "    .dataframe tbody tr th:only-of-type {\n",
       "        vertical-align: middle;\n",
       "    }\n",
       "\n",
       "    .dataframe tbody tr th {\n",
       "        vertical-align: top;\n",
       "    }\n",
       "\n",
       "    .dataframe thead th {\n",
       "        text-align: right;\n",
       "    }\n",
       "</style>\n",
       "<table border=\"1\" class=\"dataframe\">\n",
       "  <thead>\n",
       "    <tr style=\"text-align: right;\">\n",
       "      <th></th>\n",
       "      <th>soloistName</th>\n",
       "      <th>soloistRoles</th>\n",
       "      <th>soloistInstrument</th>\n",
       "      <th>id</th>\n",
       "      <th>Date</th>\n",
       "      <th>eventType</th>\n",
       "      <th>Venue</th>\n",
       "      <th>Location</th>\n",
       "      <th>Time</th>\n",
       "    </tr>\n",
       "  </thead>\n",
       "  <tbody>\n",
       "    <tr>\n",
       "      <th>0</th>\n",
       "      <td>Otto, Antoinette</td>\n",
       "      <td>S</td>\n",
       "      <td>Soprano</td>\n",
       "      <td>38e072a7-8fc9-4f9a-8eac-3957905c0002</td>\n",
       "      <td>1842-12-07T05:00:00Z</td>\n",
       "      <td>Subscription Season</td>\n",
       "      <td>Apollo Rooms</td>\n",
       "      <td>Manhattan, NY</td>\n",
       "      <td>8:00PM</td>\n",
       "    </tr>\n",
       "    <tr>\n",
       "      <th>1</th>\n",
       "      <td>Scharfenberg, William</td>\n",
       "      <td>A</td>\n",
       "      <td>Piano</td>\n",
       "      <td>38e072a7-8fc9-4f9a-8eac-3957905c0002</td>\n",
       "      <td>1842-12-07T05:00:00Z</td>\n",
       "      <td>Subscription Season</td>\n",
       "      <td>Apollo Rooms</td>\n",
       "      <td>Manhattan, NY</td>\n",
       "      <td>8:00PM</td>\n",
       "    </tr>\n",
       "    <tr>\n",
       "      <th>2</th>\n",
       "      <td>Hill, Ureli Corelli</td>\n",
       "      <td>A</td>\n",
       "      <td>Violin</td>\n",
       "      <td>38e072a7-8fc9-4f9a-8eac-3957905c0002</td>\n",
       "      <td>1842-12-07T05:00:00Z</td>\n",
       "      <td>Subscription Season</td>\n",
       "      <td>Apollo Rooms</td>\n",
       "      <td>Manhattan, NY</td>\n",
       "      <td>8:00PM</td>\n",
       "    </tr>\n",
       "    <tr>\n",
       "      <th>3</th>\n",
       "      <td>Derwort, G. H.</td>\n",
       "      <td>A</td>\n",
       "      <td>Viola</td>\n",
       "      <td>38e072a7-8fc9-4f9a-8eac-3957905c0002</td>\n",
       "      <td>1842-12-07T05:00:00Z</td>\n",
       "      <td>Subscription Season</td>\n",
       "      <td>Apollo Rooms</td>\n",
       "      <td>Manhattan, NY</td>\n",
       "      <td>8:00PM</td>\n",
       "    </tr>\n",
       "    <tr>\n",
       "      <th>4</th>\n",
       "      <td>Boucher, Alfred</td>\n",
       "      <td>A</td>\n",
       "      <td>Cello</td>\n",
       "      <td>38e072a7-8fc9-4f9a-8eac-3957905c0002</td>\n",
       "      <td>1842-12-07T05:00:00Z</td>\n",
       "      <td>Subscription Season</td>\n",
       "      <td>Apollo Rooms</td>\n",
       "      <td>Manhattan, NY</td>\n",
       "      <td>8:00PM</td>\n",
       "    </tr>\n",
       "    <tr>\n",
       "      <th>...</th>\n",
       "      <td>...</td>\n",
       "      <td>...</td>\n",
       "      <td>...</td>\n",
       "      <td>...</td>\n",
       "      <td>...</td>\n",
       "      <td>...</td>\n",
       "      <td>...</td>\n",
       "      <td>...</td>\n",
       "      <td>...</td>\n",
       "    </tr>\n",
       "    <tr>\n",
       "      <th>56189</th>\n",
       "      <td>Xu, Weiqin</td>\n",
       "      <td>S</td>\n",
       "      <td>Baritone</td>\n",
       "      <td>68625626-8085-44e4-bdb3-d8e6ac51c95b</td>\n",
       "      <td>2017-07-04T04:00:00Z</td>\n",
       "      <td>Tour - Young People's Concert</td>\n",
       "      <td>Shanghai Symphony Hall--Chamber Hall</td>\n",
       "      <td>Shanghai, CHINA</td>\n",
       "      <td>7:30PM</td>\n",
       "    </tr>\n",
       "    <tr>\n",
       "      <th>56190</th>\n",
       "      <td>Martin, Christopher</td>\n",
       "      <td>S</td>\n",
       "      <td>Trumpet</td>\n",
       "      <td>5c22d35f-a282-4505-bd31-df619c74f52b</td>\n",
       "      <td>2017-07-07T04:00:00Z</td>\n",
       "      <td>Tour</td>\n",
       "      <td>Shanghai Symphony Hall</td>\n",
       "      <td>Shanghai, CHINA</td>\n",
       "      <td>7:30PM</td>\n",
       "    </tr>\n",
       "    <tr>\n",
       "      <th>56191</th>\n",
       "      <td>Shryock, Grace</td>\n",
       "      <td>S</td>\n",
       "      <td>English Horn</td>\n",
       "      <td>5c22d35f-a282-4505-bd31-df619c74f52b</td>\n",
       "      <td>2017-07-07T04:00:00Z</td>\n",
       "      <td>Tour</td>\n",
       "      <td>Shanghai Symphony Hall</td>\n",
       "      <td>Shanghai, CHINA</td>\n",
       "      <td>7:30PM</td>\n",
       "    </tr>\n",
       "    <tr>\n",
       "      <th>56192</th>\n",
       "      <td>Jazz at Lincoln Center Orchestra with Wynton M...</td>\n",
       "      <td>S</td>\n",
       "      <td>Jazz Ensemble</td>\n",
       "      <td>5c22d35f-a282-4505-bd31-df619c74f52b</td>\n",
       "      <td>2017-07-07T04:00:00Z</td>\n",
       "      <td>Tour</td>\n",
       "      <td>Shanghai Symphony Hall</td>\n",
       "      <td>Shanghai, CHINA</td>\n",
       "      <td>7:30PM</td>\n",
       "    </tr>\n",
       "    <tr>\n",
       "      <th>56193</th>\n",
       "      <td>Jazz at Lincoln Center Orchestra with Wynton M...</td>\n",
       "      <td>S</td>\n",
       "      <td>Jazz Ensemble</td>\n",
       "      <td>5c22d35f-a282-4505-bd31-df619c74f52b</td>\n",
       "      <td>2017-07-07T04:00:00Z</td>\n",
       "      <td>Tour</td>\n",
       "      <td>Shanghai Symphony Hall</td>\n",
       "      <td>Shanghai, CHINA</td>\n",
       "      <td>7:30PM</td>\n",
       "    </tr>\n",
       "  </tbody>\n",
       "</table>\n",
       "<p>56194 rows × 9 columns</p>\n",
       "</div>"
      ],
      "text/plain": [
       "                                             soloistName soloistRoles  \\\n",
       "0                                       Otto, Antoinette            S   \n",
       "1                                  Scharfenberg, William            A   \n",
       "2                                    Hill, Ureli Corelli            A   \n",
       "3                                         Derwort, G. H.            A   \n",
       "4                                        Boucher, Alfred            A   \n",
       "...                                                  ...          ...   \n",
       "56189                                         Xu, Weiqin            S   \n",
       "56190                                Martin, Christopher            S   \n",
       "56191                                     Shryock, Grace            S   \n",
       "56192  Jazz at Lincoln Center Orchestra with Wynton M...            S   \n",
       "56193  Jazz at Lincoln Center Orchestra with Wynton M...            S   \n",
       "\n",
       "      soloistInstrument                                    id  \\\n",
       "0               Soprano  38e072a7-8fc9-4f9a-8eac-3957905c0002   \n",
       "1                 Piano  38e072a7-8fc9-4f9a-8eac-3957905c0002   \n",
       "2                Violin  38e072a7-8fc9-4f9a-8eac-3957905c0002   \n",
       "3                 Viola  38e072a7-8fc9-4f9a-8eac-3957905c0002   \n",
       "4                 Cello  38e072a7-8fc9-4f9a-8eac-3957905c0002   \n",
       "...                 ...                                   ...   \n",
       "56189          Baritone  68625626-8085-44e4-bdb3-d8e6ac51c95b   \n",
       "56190           Trumpet  5c22d35f-a282-4505-bd31-df619c74f52b   \n",
       "56191      English Horn  5c22d35f-a282-4505-bd31-df619c74f52b   \n",
       "56192     Jazz Ensemble  5c22d35f-a282-4505-bd31-df619c74f52b   \n",
       "56193     Jazz Ensemble  5c22d35f-a282-4505-bd31-df619c74f52b   \n",
       "\n",
       "                       Date                      eventType  \\\n",
       "0      1842-12-07T05:00:00Z            Subscription Season   \n",
       "1      1842-12-07T05:00:00Z            Subscription Season   \n",
       "2      1842-12-07T05:00:00Z            Subscription Season   \n",
       "3      1842-12-07T05:00:00Z            Subscription Season   \n",
       "4      1842-12-07T05:00:00Z            Subscription Season   \n",
       "...                     ...                            ...   \n",
       "56189  2017-07-04T04:00:00Z  Tour - Young People's Concert   \n",
       "56190  2017-07-07T04:00:00Z                           Tour   \n",
       "56191  2017-07-07T04:00:00Z                           Tour   \n",
       "56192  2017-07-07T04:00:00Z                           Tour   \n",
       "56193  2017-07-07T04:00:00Z                           Tour   \n",
       "\n",
       "                                      Venue         Location    Time  \n",
       "0                              Apollo Rooms    Manhattan, NY  8:00PM  \n",
       "1                              Apollo Rooms    Manhattan, NY  8:00PM  \n",
       "2                              Apollo Rooms    Manhattan, NY  8:00PM  \n",
       "3                              Apollo Rooms    Manhattan, NY  8:00PM  \n",
       "4                              Apollo Rooms    Manhattan, NY  8:00PM  \n",
       "...                                     ...              ...     ...  \n",
       "56189  Shanghai Symphony Hall--Chamber Hall  Shanghai, CHINA  7:30PM  \n",
       "56190                Shanghai Symphony Hall  Shanghai, CHINA  7:30PM  \n",
       "56191                Shanghai Symphony Hall  Shanghai, CHINA  7:30PM  \n",
       "56192                Shanghai Symphony Hall  Shanghai, CHINA  7:30PM  \n",
       "56193                Shanghai Symphony Hall  Shanghai, CHINA  7:30PM  \n",
       "\n",
       "[56194 rows x 9 columns]"
      ]
     },
     "execution_count": 86,
     "metadata": {},
     "output_type": "execute_result"
    }
   ],
   "source": [
    "final"
   ]
  },
  {
   "cell_type": "code",
   "execution_count": null,
   "metadata": {},
   "outputs": [],
   "source": []
  }
 ],
 "metadata": {
  "kernelspec": {
   "display_name": "Python 3",
   "language": "python",
   "name": "python3"
  },
  "language_info": {
   "codemirror_mode": {
    "name": "ipython",
    "version": 3
   },
   "file_extension": ".py",
   "mimetype": "text/x-python",
   "name": "python",
   "nbconvert_exporter": "python",
   "pygments_lexer": "ipython3",
   "version": "3.8.5"
  },
  "varInspector": {
   "cols": {
    "lenName": 16,
    "lenType": 16,
    "lenVar": 40
   },
   "kernels_config": {
    "python": {
     "delete_cmd_postfix": "",
     "delete_cmd_prefix": "del ",
     "library": "var_list.py",
     "varRefreshCmd": "print(var_dic_list())"
    },
    "r": {
     "delete_cmd_postfix": ") ",
     "delete_cmd_prefix": "rm(",
     "library": "var_list.r",
     "varRefreshCmd": "cat(var_dic_list()) "
    }
   },
   "types_to_exclude": [
    "module",
    "function",
    "builtin_function_or_method",
    "instance",
    "_Feature"
   ],
   "window_display": false
  }
 },
 "nbformat": 4,
 "nbformat_minor": 4
}
